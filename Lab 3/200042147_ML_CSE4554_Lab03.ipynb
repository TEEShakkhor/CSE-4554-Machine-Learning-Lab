{
  "nbformat": 4,
  "nbformat_minor": 0,
  "metadata": {
    "colab": {
      "provenance": []
    },
    "kernelspec": {
      "name": "python3",
      "display_name": "Python 3"
    },
    "language_info": {
      "name": "python"
    }
  },
  "cells": [
    {
      "cell_type": "markdown",
      "source": [
        "Task 1\n",
        "\n",
        "Load the classification dataset. [Dataset = Biomechanical features of orthopedic patients]. Load the\n",
        "dataset using pandas. Explore the dataset using pandas methods such as head(), info(), and describe()."
      ],
      "metadata": {
        "id": "OByObFA6MFVB"
      }
    },
    {
      "cell_type": "code",
      "execution_count": null,
      "metadata": {
        "colab": {
          "base_uri": "https://localhost:8080/",
          "height": 526
        },
        "id": "FvYVS63RHNls",
        "outputId": "facbfeaa-b3ca-4d4a-d25c-18091a8642f0"
      },
      "outputs": [
        {
          "output_type": "stream",
          "name": "stdout",
          "text": [
            "   pelvic_incidence  pelvic_tilt numeric  lumbar_lordosis_angle  sacral_slope  \\\n",
            "0         63.027817            22.552586              39.609117     40.475232   \n",
            "1         39.056951            10.060991              25.015378     28.995960   \n",
            "2         68.832021            22.218482              50.092194     46.613539   \n",
            "3         69.297008            24.652878              44.311238     44.644130   \n",
            "4         49.712859             9.652075              28.317406     40.060784   \n",
            "\n",
            "   pelvic_radius  degree_spondylolisthesis     class  \n",
            "0      98.672917                 -0.254400  Abnormal  \n",
            "1     114.405425                  4.564259  Abnormal  \n",
            "2     105.985135                 -3.530317  Abnormal  \n",
            "3     101.868495                 11.211523  Abnormal  \n",
            "4     108.168725                  7.918501  Abnormal  \n"
          ]
        },
        {
          "output_type": "execute_result",
          "data": {
            "text/plain": [
              "       pelvic_incidence  pelvic_tilt numeric  lumbar_lordosis_angle  \\\n",
              "count        310.000000           310.000000             310.000000   \n",
              "mean          60.496653            17.542822              51.930930   \n",
              "std           17.236520            10.008330              18.554064   \n",
              "min           26.147921            -6.554948              14.000000   \n",
              "25%           46.430294            10.667069              37.000000   \n",
              "50%           58.691038            16.357689              49.562398   \n",
              "75%           72.877696            22.120395              63.000000   \n",
              "max          129.834041            49.431864             125.742385   \n",
              "\n",
              "       sacral_slope  pelvic_radius  degree_spondylolisthesis  \n",
              "count    310.000000     310.000000                310.000000  \n",
              "mean      42.953831     117.920655                 26.296694  \n",
              "std       13.423102      13.317377                 37.559027  \n",
              "min       13.366931      70.082575                -11.058179  \n",
              "25%       33.347122     110.709196                  1.603727  \n",
              "50%       42.404912     118.268178                 11.767934  \n",
              "75%       52.695888     125.467674                 41.287352  \n",
              "max      121.429566     163.071041                418.543082  "
            ],
            "text/html": [
              "\n",
              "  <div id=\"df-61332b9f-c18c-4345-80a3-f4bd1f710dcc\" class=\"colab-df-container\">\n",
              "    <div>\n",
              "<style scoped>\n",
              "    .dataframe tbody tr th:only-of-type {\n",
              "        vertical-align: middle;\n",
              "    }\n",
              "\n",
              "    .dataframe tbody tr th {\n",
              "        vertical-align: top;\n",
              "    }\n",
              "\n",
              "    .dataframe thead th {\n",
              "        text-align: right;\n",
              "    }\n",
              "</style>\n",
              "<table border=\"1\" class=\"dataframe\">\n",
              "  <thead>\n",
              "    <tr style=\"text-align: right;\">\n",
              "      <th></th>\n",
              "      <th>pelvic_incidence</th>\n",
              "      <th>pelvic_tilt numeric</th>\n",
              "      <th>lumbar_lordosis_angle</th>\n",
              "      <th>sacral_slope</th>\n",
              "      <th>pelvic_radius</th>\n",
              "      <th>degree_spondylolisthesis</th>\n",
              "    </tr>\n",
              "  </thead>\n",
              "  <tbody>\n",
              "    <tr>\n",
              "      <th>count</th>\n",
              "      <td>310.000000</td>\n",
              "      <td>310.000000</td>\n",
              "      <td>310.000000</td>\n",
              "      <td>310.000000</td>\n",
              "      <td>310.000000</td>\n",
              "      <td>310.000000</td>\n",
              "    </tr>\n",
              "    <tr>\n",
              "      <th>mean</th>\n",
              "      <td>60.496653</td>\n",
              "      <td>17.542822</td>\n",
              "      <td>51.930930</td>\n",
              "      <td>42.953831</td>\n",
              "      <td>117.920655</td>\n",
              "      <td>26.296694</td>\n",
              "    </tr>\n",
              "    <tr>\n",
              "      <th>std</th>\n",
              "      <td>17.236520</td>\n",
              "      <td>10.008330</td>\n",
              "      <td>18.554064</td>\n",
              "      <td>13.423102</td>\n",
              "      <td>13.317377</td>\n",
              "      <td>37.559027</td>\n",
              "    </tr>\n",
              "    <tr>\n",
              "      <th>min</th>\n",
              "      <td>26.147921</td>\n",
              "      <td>-6.554948</td>\n",
              "      <td>14.000000</td>\n",
              "      <td>13.366931</td>\n",
              "      <td>70.082575</td>\n",
              "      <td>-11.058179</td>\n",
              "    </tr>\n",
              "    <tr>\n",
              "      <th>25%</th>\n",
              "      <td>46.430294</td>\n",
              "      <td>10.667069</td>\n",
              "      <td>37.000000</td>\n",
              "      <td>33.347122</td>\n",
              "      <td>110.709196</td>\n",
              "      <td>1.603727</td>\n",
              "    </tr>\n",
              "    <tr>\n",
              "      <th>50%</th>\n",
              "      <td>58.691038</td>\n",
              "      <td>16.357689</td>\n",
              "      <td>49.562398</td>\n",
              "      <td>42.404912</td>\n",
              "      <td>118.268178</td>\n",
              "      <td>11.767934</td>\n",
              "    </tr>\n",
              "    <tr>\n",
              "      <th>75%</th>\n",
              "      <td>72.877696</td>\n",
              "      <td>22.120395</td>\n",
              "      <td>63.000000</td>\n",
              "      <td>52.695888</td>\n",
              "      <td>125.467674</td>\n",
              "      <td>41.287352</td>\n",
              "    </tr>\n",
              "    <tr>\n",
              "      <th>max</th>\n",
              "      <td>129.834041</td>\n",
              "      <td>49.431864</td>\n",
              "      <td>125.742385</td>\n",
              "      <td>121.429566</td>\n",
              "      <td>163.071041</td>\n",
              "      <td>418.543082</td>\n",
              "    </tr>\n",
              "  </tbody>\n",
              "</table>\n",
              "</div>\n",
              "    <div class=\"colab-df-buttons\">\n",
              "\n",
              "  <div class=\"colab-df-container\">\n",
              "    <button class=\"colab-df-convert\" onclick=\"convertToInteractive('df-61332b9f-c18c-4345-80a3-f4bd1f710dcc')\"\n",
              "            title=\"Convert this dataframe to an interactive table.\"\n",
              "            style=\"display:none;\">\n",
              "\n",
              "  <svg xmlns=\"http://www.w3.org/2000/svg\" height=\"24px\" viewBox=\"0 -960 960 960\">\n",
              "    <path d=\"M120-120v-720h720v720H120Zm60-500h600v-160H180v160Zm220 220h160v-160H400v160Zm0 220h160v-160H400v160ZM180-400h160v-160H180v160Zm440 0h160v-160H620v160ZM180-180h160v-160H180v160Zm440 0h160v-160H620v160Z\"/>\n",
              "  </svg>\n",
              "    </button>\n",
              "\n",
              "  <style>\n",
              "    .colab-df-container {\n",
              "      display:flex;\n",
              "      gap: 12px;\n",
              "    }\n",
              "\n",
              "    .colab-df-convert {\n",
              "      background-color: #E8F0FE;\n",
              "      border: none;\n",
              "      border-radius: 50%;\n",
              "      cursor: pointer;\n",
              "      display: none;\n",
              "      fill: #1967D2;\n",
              "      height: 32px;\n",
              "      padding: 0 0 0 0;\n",
              "      width: 32px;\n",
              "    }\n",
              "\n",
              "    .colab-df-convert:hover {\n",
              "      background-color: #E2EBFA;\n",
              "      box-shadow: 0px 1px 2px rgba(60, 64, 67, 0.3), 0px 1px 3px 1px rgba(60, 64, 67, 0.15);\n",
              "      fill: #174EA6;\n",
              "    }\n",
              "\n",
              "    .colab-df-buttons div {\n",
              "      margin-bottom: 4px;\n",
              "    }\n",
              "\n",
              "    [theme=dark] .colab-df-convert {\n",
              "      background-color: #3B4455;\n",
              "      fill: #D2E3FC;\n",
              "    }\n",
              "\n",
              "    [theme=dark] .colab-df-convert:hover {\n",
              "      background-color: #434B5C;\n",
              "      box-shadow: 0px 1px 3px 1px rgba(0, 0, 0, 0.15);\n",
              "      filter: drop-shadow(0px 1px 2px rgba(0, 0, 0, 0.3));\n",
              "      fill: #FFFFFF;\n",
              "    }\n",
              "  </style>\n",
              "\n",
              "    <script>\n",
              "      const buttonEl =\n",
              "        document.querySelector('#df-61332b9f-c18c-4345-80a3-f4bd1f710dcc button.colab-df-convert');\n",
              "      buttonEl.style.display =\n",
              "        google.colab.kernel.accessAllowed ? 'block' : 'none';\n",
              "\n",
              "      async function convertToInteractive(key) {\n",
              "        const element = document.querySelector('#df-61332b9f-c18c-4345-80a3-f4bd1f710dcc');\n",
              "        const dataTable =\n",
              "          await google.colab.kernel.invokeFunction('convertToInteractive',\n",
              "                                                    [key], {});\n",
              "        if (!dataTable) return;\n",
              "\n",
              "        const docLinkHtml = 'Like what you see? Visit the ' +\n",
              "          '<a target=\"_blank\" href=https://colab.research.google.com/notebooks/data_table.ipynb>data table notebook</a>'\n",
              "          + ' to learn more about interactive tables.';\n",
              "        element.innerHTML = '';\n",
              "        dataTable['output_type'] = 'display_data';\n",
              "        await google.colab.output.renderOutput(dataTable, element);\n",
              "        const docLink = document.createElement('div');\n",
              "        docLink.innerHTML = docLinkHtml;\n",
              "        element.appendChild(docLink);\n",
              "      }\n",
              "    </script>\n",
              "  </div>\n",
              "\n",
              "\n",
              "<div id=\"df-236e4540-0fc2-425c-a452-e12f07ca006f\">\n",
              "  <button class=\"colab-df-quickchart\" onclick=\"quickchart('df-236e4540-0fc2-425c-a452-e12f07ca006f')\"\n",
              "            title=\"Suggest charts.\"\n",
              "            style=\"display:none;\">\n",
              "\n",
              "<svg xmlns=\"http://www.w3.org/2000/svg\" height=\"24px\"viewBox=\"0 0 24 24\"\n",
              "     width=\"24px\">\n",
              "    <g>\n",
              "        <path d=\"M19 3H5c-1.1 0-2 .9-2 2v14c0 1.1.9 2 2 2h14c1.1 0 2-.9 2-2V5c0-1.1-.9-2-2-2zM9 17H7v-7h2v7zm4 0h-2V7h2v10zm4 0h-2v-4h2v4z\"/>\n",
              "    </g>\n",
              "</svg>\n",
              "  </button>\n",
              "\n",
              "<style>\n",
              "  .colab-df-quickchart {\n",
              "      --bg-color: #E8F0FE;\n",
              "      --fill-color: #1967D2;\n",
              "      --hover-bg-color: #E2EBFA;\n",
              "      --hover-fill-color: #174EA6;\n",
              "      --disabled-fill-color: #AAA;\n",
              "      --disabled-bg-color: #DDD;\n",
              "  }\n",
              "\n",
              "  [theme=dark] .colab-df-quickchart {\n",
              "      --bg-color: #3B4455;\n",
              "      --fill-color: #D2E3FC;\n",
              "      --hover-bg-color: #434B5C;\n",
              "      --hover-fill-color: #FFFFFF;\n",
              "      --disabled-bg-color: #3B4455;\n",
              "      --disabled-fill-color: #666;\n",
              "  }\n",
              "\n",
              "  .colab-df-quickchart {\n",
              "    background-color: var(--bg-color);\n",
              "    border: none;\n",
              "    border-radius: 50%;\n",
              "    cursor: pointer;\n",
              "    display: none;\n",
              "    fill: var(--fill-color);\n",
              "    height: 32px;\n",
              "    padding: 0;\n",
              "    width: 32px;\n",
              "  }\n",
              "\n",
              "  .colab-df-quickchart:hover {\n",
              "    background-color: var(--hover-bg-color);\n",
              "    box-shadow: 0 1px 2px rgba(60, 64, 67, 0.3), 0 1px 3px 1px rgba(60, 64, 67, 0.15);\n",
              "    fill: var(--button-hover-fill-color);\n",
              "  }\n",
              "\n",
              "  .colab-df-quickchart-complete:disabled,\n",
              "  .colab-df-quickchart-complete:disabled:hover {\n",
              "    background-color: var(--disabled-bg-color);\n",
              "    fill: var(--disabled-fill-color);\n",
              "    box-shadow: none;\n",
              "  }\n",
              "\n",
              "  .colab-df-spinner {\n",
              "    border: 2px solid var(--fill-color);\n",
              "    border-color: transparent;\n",
              "    border-bottom-color: var(--fill-color);\n",
              "    animation:\n",
              "      spin 1s steps(1) infinite;\n",
              "  }\n",
              "\n",
              "  @keyframes spin {\n",
              "    0% {\n",
              "      border-color: transparent;\n",
              "      border-bottom-color: var(--fill-color);\n",
              "      border-left-color: var(--fill-color);\n",
              "    }\n",
              "    20% {\n",
              "      border-color: transparent;\n",
              "      border-left-color: var(--fill-color);\n",
              "      border-top-color: var(--fill-color);\n",
              "    }\n",
              "    30% {\n",
              "      border-color: transparent;\n",
              "      border-left-color: var(--fill-color);\n",
              "      border-top-color: var(--fill-color);\n",
              "      border-right-color: var(--fill-color);\n",
              "    }\n",
              "    40% {\n",
              "      border-color: transparent;\n",
              "      border-right-color: var(--fill-color);\n",
              "      border-top-color: var(--fill-color);\n",
              "    }\n",
              "    60% {\n",
              "      border-color: transparent;\n",
              "      border-right-color: var(--fill-color);\n",
              "    }\n",
              "    80% {\n",
              "      border-color: transparent;\n",
              "      border-right-color: var(--fill-color);\n",
              "      border-bottom-color: var(--fill-color);\n",
              "    }\n",
              "    90% {\n",
              "      border-color: transparent;\n",
              "      border-bottom-color: var(--fill-color);\n",
              "    }\n",
              "  }\n",
              "</style>\n",
              "\n",
              "  <script>\n",
              "    async function quickchart(key) {\n",
              "      const quickchartButtonEl =\n",
              "        document.querySelector('#' + key + ' button');\n",
              "      quickchartButtonEl.disabled = true;  // To prevent multiple clicks.\n",
              "      quickchartButtonEl.classList.add('colab-df-spinner');\n",
              "      try {\n",
              "        const charts = await google.colab.kernel.invokeFunction(\n",
              "            'suggestCharts', [key], {});\n",
              "      } catch (error) {\n",
              "        console.error('Error during call to suggestCharts:', error);\n",
              "      }\n",
              "      quickchartButtonEl.classList.remove('colab-df-spinner');\n",
              "      quickchartButtonEl.classList.add('colab-df-quickchart-complete');\n",
              "    }\n",
              "    (() => {\n",
              "      let quickchartButtonEl =\n",
              "        document.querySelector('#df-236e4540-0fc2-425c-a452-e12f07ca006f button');\n",
              "      quickchartButtonEl.style.display =\n",
              "        google.colab.kernel.accessAllowed ? 'block' : 'none';\n",
              "    })();\n",
              "  </script>\n",
              "</div>\n",
              "    </div>\n",
              "  </div>\n"
            ]
          },
          "metadata": {},
          "execution_count": 9
        }
      ],
      "source": [
        "import pandas as pd\n",
        "url = 'column_2C_weka.csv'\n",
        "data = pd.read_csv(url)\n",
        "#data.columns=[\"pelvic_incidence\", \"pelvic_tilt numeric\", \"lumbar_lordosis_angle\", \"sacral_slope\", \"pelvic_radius\", \"degree_spondylolisthesis\", \"class\"]\n",
        "print(data.head())\n",
        "data.describe()\n"
      ]
    },
    {
      "cell_type": "markdown",
      "source": [
        "Task 2\n",
        "\n",
        "Import the necessary libraries"
      ],
      "metadata": {
        "id": "ks_mwzn1MF7N"
      }
    },
    {
      "cell_type": "code",
      "source": [
        "import numpy as np\n",
        "import random\n",
        "import pandas as pd\n",
        "from sklearn.metrics import accuracy_score\n",
        "import matplotlib.pyplot as plt\n",
        "import seaborn as sns\n",
        "from sklearn.model_selection import train_test_split\n",
        "from sklearn.preprocessing import MinMaxScaler"
      ],
      "metadata": {
        "id": "eS5BOZoyMGM4"
      },
      "execution_count": null,
      "outputs": []
    },
    {
      "cell_type": "markdown",
      "source": [
        "Task 3\n",
        "\n",
        "Initialize weights and bias as 0:"
      ],
      "metadata": {
        "id": "wnauo5uZMGYI"
      }
    },
    {
      "cell_type": "code",
      "source": [
        "def weightInitialization(n_features):\n",
        "    w = np.zeros((n_features,1))\n",
        "    b = 0.0\n",
        "\n",
        "    return w, b"
      ],
      "metadata": {
        "id": "b7CuOkBnMGrW"
      },
      "execution_count": null,
      "outputs": []
    },
    {
      "cell_type": "markdown",
      "source": [
        "Task 4\n",
        "\n",
        "Sigmoid Function:"
      ],
      "metadata": {
        "id": "qiqYPA3RMG3C"
      }
    },
    {
      "cell_type": "code",
      "source": [
        "def sigmoid_activation(z):\n",
        "    y = 1 / (1 + np.exp(-z))\n",
        "    return y\n"
      ],
      "metadata": {
        "id": "guxmkJBRMHKK"
      },
      "execution_count": null,
      "outputs": []
    },
    {
      "cell_type": "markdown",
      "source": [
        "Task 5\n",
        "\n",
        "Model Optimization Function:"
      ],
      "metadata": {
        "id": "4OoLZ2adNEds"
      }
    },
    {
      "cell_type": "code",
      "source": [
        "def model_optimize(w, b, X, Y):\n",
        "    # Get the number of training examples (m)\n",
        "    m = X.shape[1]\n",
        "\n",
        "    # Compute the linear transformation and apply the sigmoid activation function\n",
        "    Z = np.dot(w.T, X) + b\n",
        "    A = sigmoid_activation(Z)\n",
        "\n",
        "    # Calculate the binary cross-entropy cost\n",
        "    cost = -(1/m) * np.sum(Y * np.log(A) + (1 - Y) * np.log(1 - A))\n",
        "\n",
        "    # Compute the gradients of the cost with respect to the parameters\n",
        "    dw = (1/m) * np.dot(X, (A - Y).T)\n",
        "    db = (1/m) * np.sum(A - Y)\n",
        "\n",
        "    # Store the gradients in a dictionary for later use\n",
        "    grads = {\"dw\": dw, \"db\": db}\n",
        "\n",
        "    return grads, cost\n"
      ],
      "metadata": {
        "id": "9XWCDlztNEt9"
      },
      "execution_count": null,
      "outputs": []
    },
    {
      "cell_type": "markdown",
      "source": [
        "Task 6\n",
        "\n",
        "Run the optimization function for a given number of epochs and get the final weights along with a\n",
        "list of cost for each epoch"
      ],
      "metadata": {
        "id": "SvxarvSMNFEo"
      }
    },
    {
      "cell_type": "code",
      "source": [
        "def model_fit(w, b, X, Y, learning_rate, no_iterations):\n",
        "    # Initialize a list to store the cost values at certain intervals\n",
        "    costs = []\n",
        "\n",
        "    # Loop for the specified number of iterations\n",
        "    for i in range(no_iterations):\n",
        "        # Compute gradients and cost using the model_optimize function\n",
        "        grads, cost = model_optimize(w, b, X, Y)\n",
        "        dw = grads[\"dw\"]\n",
        "        db = grads[\"db\"]\n",
        "\n",
        "        # Update the parameters w and b using gradient descent\n",
        "        w = w - learning_rate * dw\n",
        "        b = b - learning_rate * db\n",
        "\n",
        "        # Append the cost to the costs list at regular intervals (every 10 iterations)\n",
        "        if (i % 10 == 0):\n",
        "            costs.append(cost)\n",
        "\n",
        "    # Store the optimized parameters w and b in a dictionary\n",
        "    coeff = {\"w\": w, \"b\": b}\n",
        "\n",
        "    return coeff, costs\n",
        "\n"
      ],
      "metadata": {
        "id": "gtlH_FQANFZk"
      },
      "execution_count": null,
      "outputs": []
    },
    {
      "cell_type": "markdown",
      "source": [
        "Task 7\n",
        "\n",
        "Use logistic regression for your dataset:"
      ],
      "metadata": {
        "id": "71TnLVs5NSqs"
      }
    },
    {
      "cell_type": "code",
      "source": [
        " # split the data in train and test split in 70:30 ratio\n",
        "\n",
        " # Get the best weights and bias\n",
        "\n",
        " # Use those to get the predictions for the test dataset\n",
        "\n",
        " # Finally check the accuracy score\n",
        "\n",
        "# Initialize a MinMaxScaler for feature scaling\n",
        "scaler = MinMaxScaler()\n",
        "\n",
        "# Prepare the input features (X) and target labels (Y)\n",
        "X = data.drop(columns=['class']).values\n",
        "X = scaler.fit_transform(X)\n",
        "\n",
        "# Create a class mapping for 'Abnormal' and 'Normal' classes\n",
        "class_mapping = {\"Abnormal\": 1, \"Normal\": 0}\n",
        "Y = data['class'].map(class_mapping).values\n",
        "\n",
        "# Split the data into training and testing sets\n",
        "X_train, X_test, Y_train, Y_test = train_test_split(X, Y, test_size=0.30, random_state=42)\n",
        "\n",
        "# Reshape the target labels for later use\n",
        "Y_train = Y_train.reshape(1, -1)\n",
        "Y_test = Y_test.reshape(1, -1)\n",
        "\n",
        "# Get the number of features\n",
        "n_features = X_train.shape[1]\n",
        "\n",
        "# Initialize weights and bias using a function (not shown in the provided code)\n",
        "w, b = weightInitialization(n_features)\n",
        "\n",
        "# Set learning rate and number of iterations\n",
        "learning_rate = 0.01\n",
        "no_iterations = 1000\n",
        "\n",
        "# Train the model using the model_fit function\n",
        "coeff, costs = model_fit(w, b, X_train.T, Y_train, learning_rate, no_iterations)\n",
        "w = coeff[\"w\"]\n",
        "b = coeff[\"b\"]\n",
        "\n",
        "# Make predictions on the test data\n",
        "Z = np.dot(w.T, X_test.T) + b\n",
        "A = sigmoid_activation(Z)\n",
        "A = (A > 0.5).astype(int)\n",
        "\n",
        "# Calculate and print the accuracy of the model\n",
        "accuracy = accuracy_score(Y_test.T, A.T)\n",
        "print(\"Accuracy:\", accuracy)\n",
        "\n",
        "\n"
      ],
      "metadata": {
        "colab": {
          "base_uri": "https://localhost:8080/"
        },
        "id": "IRXB-4glNS9g",
        "outputId": "a8c4cae3-157a-43c5-d184-c5928b53d422"
      },
      "execution_count": null,
      "outputs": [
        {
          "output_type": "stream",
          "name": "stdout",
          "text": [
            "Accuracy: 0.7419354838709677\n"
          ]
        }
      ]
    },
    {
      "cell_type": "markdown",
      "source": [
        "Task 8\n",
        "\n",
        "Use the costs list to plot the cost vs. epoch curve."
      ],
      "metadata": {
        "id": "h3rlwCUxNTbi"
      }
    },
    {
      "cell_type": "code",
      "source": [
        "epochs = range(1, len(costs) + 1)\n",
        "plt.plot(epochs, costs, marker='s', linestyle='--', color='r', markersize=5, label='Training Cost')\n",
        "plt.title('Cost vs. Epoch')\n",
        "plt.xlabel('Epoch')\n",
        "plt.ylabel('Cost')"
      ],
      "metadata": {
        "id": "w8_MZGmLNTuz",
        "colab": {
          "base_uri": "https://localhost:8080/",
          "height": 489
        },
        "outputId": "e99014a0-5401-4ed7-cdc6-4724b8c18216"
      },
      "execution_count": null,
      "outputs": [
        {
          "output_type": "execute_result",
          "data": {
            "text/plain": [
              "Text(0, 0.5, 'Cost')"
            ]
          },
          "metadata": {},
          "execution_count": 16
        },
        {
          "output_type": "display_data",
          "data": {
            "text/plain": [
              "<Figure size 640x480 with 1 Axes>"
            ],
            "image/png": "[encoded data removed]"
          },
          "metadata": {}
        }
      ]
    },
    {
      "cell_type": "markdown",
      "source": [
        "Task 9\n",
        "\n",
        "Show how the accuracy of the test dataset changes when you use 10%, 20%, and so on of the training\n",
        "dataset."
      ],
      "metadata": {
        "id": "Ifqh_VHPrnsp"
      }
    },
    {
      "cell_type": "code",
      "source": [
        "# Define a list of test data percentages\n",
        "percentages = [10, 20, 30, 40, 50, 60, 70, 80, 90]\n",
        "\n",
        "# Initialize an empty list to store accuracy values\n",
        "accuracy_values = []\n",
        "\n",
        "# Iterate over different test data percentages\n",
        "for percent in percentages:\n",
        "    # Split the data into training and testing sets based on the percentage\n",
        "    X_train, X_test, Y_train, Y_test = train_test_split(X, Y, test_size=percent/100, random_state=42)\n",
        "\n",
        "    # Reshape the target arrays to have the right shape\n",
        "    Y_train = Y_train.reshape(1, -1)\n",
        "    Y_test = Y_test.reshape(1, -1)\n",
        "\n",
        "    # Get the number of features in the input data\n",
        "    n_features = X_train.shape[1]\n",
        "\n",
        "    # Initialize model weights and bias\n",
        "    w, b = weightInitialization(n_features)\n",
        "\n",
        "    # Train the model on the training data\n",
        "    coeff, costs = model_fit(w, b, X_train.T, Y_train, learning_rate=0.01, no_iterations=500)\n",
        "    w = coeff[\"w\"]\n",
        "    b = coeff[\"b\"]\n",
        "\n",
        "    # Make predictions on the test data\n",
        "    Z = np.dot(w.T, X_test.T) + b\n",
        "    A = sigmoid_activation(Z)\n",
        "    A = A > 0.5\n",
        "\n",
        "    # Calculate and store the accuracy of the model on the test data\n",
        "    accuracy_values.append(accuracy_score(Y_test.T, A.T))\n",
        "\n",
        "# Create a DataFrame to store the results\n",
        "results = pd.DataFrame({'Training Data%': [100 - percent for percent in percentages],\n",
        "                        'Test Data%': percentages,\n",
        "                        'Accuracy': accuracy_values})\n",
        "\n",
        "# Print the results\n",
        "print(results)\n"
      ],
      "metadata": {
        "colab": {
          "base_uri": "https://localhost:8080/"
        },
        "id": "1rcuPZXTroJH",
        "outputId": "f78ca31c-6b39-4c7c-ba1c-777b2b37fadf"
      },
      "execution_count": null,
      "outputs": [
        {
          "output_type": "stream",
          "name": "stdout",
          "text": [
            "   Training Data%  Test Data%  Accuracy\n",
            "0              90          10  0.741935\n",
            "1              80          20  0.709677\n",
            "2              70          30  0.741935\n",
            "3              60          40  0.733871\n",
            "4              50          50  0.709677\n",
            "5              40          60  0.709677\n",
            "6              30          70  0.691244\n",
            "7              20          80  0.677419\n",
            "8              10          90  0.673835\n"
          ]
        }
      ]
    },
    {
      "cell_type": "markdown",
      "source": [
        "Task 10\n",
        "\n",
        "L1 L2 Regularization:\n",
        "Adapt the function model_optimize to include regularization."
      ],
      "metadata": {
        "id": "Gc8gaOidrxMD"
      }
    },
    {
      "cell_type": "code",
      "source": [
        "def model_optimize_with_regularization(w, b, X, Y, learning_rate, no_iterations, reg, lambda_):\n",
        "    # Get the number of training examples (m)\n",
        "    m = X.shape[1]\n",
        "\n",
        "    # Compute the linear transformation and apply the sigmoid activation function\n",
        "    Z = np.dot(w.T, X) + b\n",
        "    A = 1 / (1 + np.exp(-Z))\n",
        "\n",
        "    # Calculate the cost with regularization\n",
        "    if reg == 'L1':\n",
        "        # L1 regularization term added to the cost\n",
        "        cost = -1/m * np.sum(Y * np.log(A) + (1 - Y) * np.log(1 - A)) + lambda_/(2*m) * np.sum(np.abs(w))\n",
        "    elif reg == 'L2':\n",
        "        # L2 regularization term added to the cost\n",
        "        cost = -1/m * np.sum(Y * np.log(A) + (1 - Y) * np.log(1 - A)) + lambda_/(2*m) * np.sum(w**2)\n",
        "\n",
        "    # Calculate gradients\n",
        "    dw = 1/m * np.dot(X, (A - Y).T)\n",
        "    db = 1/m * np.sum(A - Y)\n",
        "\n",
        "    # Store the gradients in a dictionary\n",
        "    grads = {\"dw\": dw, \"db\": db}\n",
        "\n",
        "    return grads, cost\n"
      ],
      "metadata": {
        "id": "AjtKYTeJrxj4"
      },
      "execution_count": null,
      "outputs": []
    },
    {
      "cell_type": "markdown",
      "source": [
        "Task 11\n",
        "\n",
        "Accuracy change with regularization :\n",
        "\n",
        "Train the model for different epochs, different regularization (none, L1, L2) and different regulariza-\n",
        "tion coefficient values then show the test accuracies found in a table."
      ],
      "metadata": {
        "id": "Yn1gnmQ5r5L-"
      }
    },
    {
      "cell_type": "code",
      "source": [
        "def model_fit_with_regularization(w, b, X, Y, learning_rate, epochs, reg, lambda_):\n",
        "    # Initialize a list to store the cost values at certain intervals\n",
        "    costs = []\n",
        "\n",
        "    # Loop for the specified number of epochs\n",
        "    for i in range(epochs):\n",
        "        # Compute gradients and cost using the model_optimize_with_regularization function\n",
        "        grads, cost = model_optimize_with_regularization(w, b, X, Y, learning_rate, epochs, reg, lambda_)\n",
        "        dw = grads[\"dw\"]\n",
        "        db = grads[\"db\"]\n",
        "\n",
        "        # Update the parameters w and b using gradient descent\n",
        "        w = w - learning_rate * dw\n",
        "        b = b - learning_rate * db\n",
        "\n",
        "        # Append the cost to the costs list at regular intervals (every 10 iterations)\n",
        "        if i % 10 == 0:\n",
        "            costs.append(cost)\n",
        "\n",
        "    # Store the optimized parameters w and b in a dictionary\n",
        "    coeff = {\"w\": w, \"b\": b}\n",
        "\n",
        "    return coeff, costs\n",
        "\n"
      ],
      "metadata": {
        "id": "AKelpHtjr5aL"
      },
      "execution_count": null,
      "outputs": []
    },
    {
      "cell_type": "code",
      "source": [
        "# Define a list of lambda (regularization) values and epoch values\n",
        "lambda_values = [0.001, 0.01, 0.1]\n",
        "epoch_values = [100, 500, 1000]\n",
        "\n",
        "# Initialize an empty list to store the results\n",
        "results = []\n",
        "\n",
        "# Split the data into training and testing sets\n",
        "X_train, X_test, Y_train, Y_test = train_test_split(X, Y, test_size=0.3, random_state=42)\n",
        "\n",
        "# Reshape the target arrays to have the right shape\n",
        "Y_train = Y_train.reshape(1, -1)\n",
        "Y_test = Y_test.reshape(1, -1)\n",
        "\n",
        "# Get the number of features in the input data\n",
        "n_features = X_train.shape[1]\n",
        "\n",
        "# Initialize model weights and bias\n",
        "w, b = weightInitialization(n_features)\n",
        "\n",
        "# Set the learning rate\n",
        "learning_rate = 0.01\n",
        "\n",
        "# Loop over regularization types (L1 and L2)\n",
        "for reg_type in [\"L1\", \"L2\"]:\n",
        "    for lambda_val in lambda_values:\n",
        "        for epochs in epoch_values:\n",
        "            # Train the model with regularization and obtain coefficients and cost\n",
        "            coeff, cost = model_fit_with_regularization(w, b, X_train.T, Y_train, learning_rate, epochs, reg_type, lambda_val)\n",
        "            w = coeff[\"w\"]\n",
        "            b = coeff[\"b\"]\n",
        "\n",
        "            # Make predictions on the test set\n",
        "            Z = np.dot(w.T, X_test.T) + b\n",
        "            A = sigmoid_activation(Z)\n",
        "            A = A > 0.5\n",
        "\n",
        "            # Calculate accuracy and store the results in a DataFrame\n",
        "            accuracy = accuracy_score(Y_test.T, A.T)\n",
        "            config = pd.DataFrame({'Type': [reg_type],\n",
        "                                    'Coefficient': [lambda_val],\n",
        "                                    'Epochs': [epochs],\n",
        "                                    'Accuracy': [accuracy]})\n",
        "\n",
        "            results.append(config)\n",
        "\n",
        "# Concatenate the results into a single DataFrame\n",
        "results = pd.concat(results, ignore_index=True)\n",
        "\n",
        "# Print the results\n",
        "print(results)\n"
      ],
      "metadata": {
        "colab": {
          "base_uri": "https://localhost:8080/"
        },
        "id": "VDF7vl1ItA1V",
        "outputId": "d74cb49a-fb4b-4883-9251-b6aad0dd3f65"
      },
      "execution_count": null,
      "outputs": [
        {
          "output_type": "stream",
          "name": "stdout",
          "text": [
            "   Type  Coefficient  Epochs  Accuracy\n",
            "0    L1        0.001     100  0.741935\n",
            "1    L1        0.001     500  0.741935\n",
            "2    L1        0.001    1000  0.741935\n",
            "3    L1        0.010     100  0.741935\n",
            "4    L1        0.010     500  0.741935\n",
            "5    L1        0.010    1000  0.741935\n",
            "6    L1        0.100     100  0.741935\n",
            "7    L1        0.100     500  0.763441\n",
            "8    L1        0.100    1000  0.774194\n",
            "9    L2        0.001     100  0.784946\n",
            "10   L2        0.001     500  0.784946\n",
            "11   L2        0.001    1000  0.806452\n",
            "12   L2        0.010     100  0.795699\n",
            "13   L2        0.010     500  0.795699\n",
            "14   L2        0.010    1000  0.806452\n",
            "15   L2        0.100     100  0.806452\n",
            "16   L2        0.100     500  0.827957\n",
            "17   L2        0.100    1000  0.827957\n"
          ]
        }
      ]
    },
    {
      "cell_type": "markdown",
      "source": [
        "Task 12\n",
        "\n",
        "Logistic Regression Class from sklearn library:\n",
        "Use the Logistic Regression model from the sklearn library and find the accuracy after training."
      ],
      "metadata": {
        "id": "gJDsYosKr_VK"
      }
    },
    {
      "cell_type": "code",
      "source": [
        "from sklearn.linear_model import LogisticRegression\n",
        "X_train, X_test, Y_train, Y_test = train_test_split(X, Y, test_size=0.3, random_state=42)\n",
        "\n",
        "logistic_regression = LogisticRegression()\n",
        "logistic_regression.fit(X_train, Y_train)\n",
        "\n",
        "predictions = logistic_regression.predict(X_test)\n",
        "accuracy = accuracy_score(Y_test, predictions)\n",
        "\n",
        "\n",
        "print(\"Accuracy:\",accuracy)"
      ],
      "metadata": {
        "colab": {
          "base_uri": "https://localhost:8080/"
        },
        "id": "f-Y-_SS3r_nn",
        "outputId": "91889b63-1f91-4f04-c2bb-3fb65c2fc759"
      },
      "execution_count": null,
      "outputs": [
        {
          "output_type": "stream",
          "name": "stdout",
          "text": [
            "Accuracy: 0.7956989247311828\n"
          ]
        }
      ]
    },
    {
      "cell_type": "markdown",
      "source": [
        "Task 13\n",
        "\n",
        "Decision Trees from sklearn library:\n",
        "Use the Decision Tree model from the sklearn library and find the accuracy after training."
      ],
      "metadata": {
        "id": "HkurPmyEsADA"
      }
    },
    {
      "cell_type": "code",
      "source": [
        "from sklearn.tree import DecisionTreeClassifier\n",
        "\n",
        "X_train, X_test, Y_train, Y_test = train_test_split(X, Y, test_size=0.3, random_state=42)\n",
        "\n",
        "decision_tree = DecisionTreeClassifier()\n",
        "decision_tree.fit(X_train, Y_train)\n",
        "\n",
        "\n",
        "predictions = decision_tree.predict(X_test)\n",
        "accuracy = accuracy_score(Y_test, predictions)\n",
        "\n",
        "print(\"Accuracy:\",accuracy)"
      ],
      "metadata": {
        "colab": {
          "base_uri": "https://localhost:8080/"
        },
        "id": "JenuXC0bsAWF",
        "outputId": "3b3f429c-71ba-4e8b-96cb-3cad847081de"
      },
      "execution_count": null,
      "outputs": [
        {
          "output_type": "stream",
          "name": "stdout",
          "text": [
            "Accuracy: 0.8279569892473119\n"
          ]
        }
      ]
    },
    {
      "cell_type": "markdown",
      "source": [
        "Task 14\n",
        "\n",
        "Naive Bayes from sklearn library:\n",
        "Use the Naive Bayes model from the sklearn library and find the accuracy after training."
      ],
      "metadata": {
        "id": "HGfJtrxKsAmg"
      }
    },
    {
      "cell_type": "code",
      "source": [
        "from sklearn.naive_bayes import GaussianNB\n",
        "\n",
        "\n",
        "X_train, X_test, Y_train, Y_test = train_test_split(X, Y, test_size=0.3, random_state=42)\n",
        "\n",
        "\n",
        "naive_bayes = GaussianNB()\n",
        "naive_bayes.fit(X_train, Y_train)\n",
        "\n",
        "\n",
        "predictions = naive_bayes.predict(X_test)\n",
        "accuracy = accuracy_score(Y_test, predictions)\n",
        "\n",
        "print(\"Accuracy:\",accuracy)"
      ],
      "metadata": {
        "colab": {
          "base_uri": "https://localhost:8080/"
        },
        "id": "jILwFXWbsBB5",
        "outputId": "208bf0a7-7511-44bc-a868-ac0a164c2f88"
      },
      "execution_count": null,
      "outputs": [
        {
          "output_type": "stream",
          "name": "stdout",
          "text": [
            "Accuracy: 0.7956989247311828\n"
          ]
        }
      ]
    }
  ]
}