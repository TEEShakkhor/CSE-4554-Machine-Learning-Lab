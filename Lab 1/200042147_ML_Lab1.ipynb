{
  "nbformat": 4,
  "nbformat_minor": 0,
  "metadata": {
    "colab": {
      "provenance": []
    },
    "kernelspec": {
      "name": "python3",
      "display_name": "Python 3"
    },
    "language_info": {
      "name": "python"
    }
  },
  "cells": [
    {
      "cell_type": "markdown",
      "source": [
        "Task 1\n",
        "\n",
        "Create a one dimensional random numpy array of size 10."
      ],
      "metadata": {
        "id": "EbbEwDxm6HLH"
      }
    },
    {
      "cell_type": "code",
      "execution_count": null,
      "metadata": {
        "colab": {
          "base_uri": "https://localhost:8080/"
        },
        "id": "oBKtbmqp5Fgy",
        "outputId": "e6950861-b75a-4b2d-a396-70ee776ee3e6"
      },
      "outputs": [
        {
          "output_type": "stream",
          "name": "stdout",
          "text": [
            "[0.7278781  0.61559324 0.85628375 0.72371607 0.80858646 0.45854868\n",
            " 0.85165549 0.25733269 0.48112771 0.82995508]\n"
          ]
        }
      ],
      "source": [
        "import numpy as np\n",
        "\n",
        "random_array = np.random.rand(10)\n",
        "\n",
        "print(random_array)"
      ]
    },
    {
      "cell_type": "markdown",
      "source": [
        "Task 2\n",
        "\n",
        "Create a two dimensional numpy array of size 7x6 and reshape it to 3x14 array."
      ],
      "metadata": {
        "id": "gq9c49ir7L1w"
      }
    },
    {
      "cell_type": "code",
      "source": [
        "\n",
        "\n",
        "# Create a 7x6 array\n",
        "original_array = np.arange(42).reshape(7, 6)\n",
        "\n",
        "print(\"Original Array (7x6):\")\n",
        "print(original_array)\n",
        "print()\n",
        "\n",
        "# Reshape to a 3x14 array\n",
        "reshaped_array = original_array.reshape(3, 14)\n",
        "\n",
        "print(\"Reshaped Array (3x14):\")\n",
        "print(reshaped_array)"
      ],
      "metadata": {
        "colab": {
          "base_uri": "https://localhost:8080/"
        },
        "id": "8og1sCAu7WfY",
        "outputId": "b6b21e99-16da-4ec7-c555-15c8e194681d"
      },
      "execution_count": null,
      "outputs": [
        {
          "output_type": "stream",
          "name": "stdout",
          "text": [
            "Original Array (7x6):\n",
            "[[ 0  1  2  3  4  5]\n",
            " [ 6  7  8  9 10 11]\n",
            " [12 13 14 15 16 17]\n",
            " [18 19 20 21 22 23]\n",
            " [24 25 26 27 28 29]\n",
            " [30 31 32 33 34 35]\n",
            " [36 37 38 39 40 41]]\n",
            "\n",
            "Reshaped Array (3x14):\n",
            "[[ 0  1  2  3  4  5  6  7  8  9 10 11 12 13]\n",
            " [14 15 16 17 18 19 20 21 22 23 24 25 26 27]\n",
            " [28 29 30 31 32 33 34 35 36 37 38 39 40 41]]\n"
          ]
        }
      ]
    },
    {
      "cell_type": "markdown",
      "source": [
        "Task 3\n",
        "\n",
        "Create an array and extract all the odd numbers from it. [array([0,1,2,3,4,5,6,7,8,9])]."
      ],
      "metadata": {
        "id": "FzLjCeBu7llb"
      }
    },
    {
      "cell_type": "code",
      "source": [
        "\n",
        "\n",
        "array_1 = np.array([0, 1, 2, 3, 4, 5, 6, 7, 8, 9])\n",
        "\n",
        "# Extract odd numbers\n",
        "odd_numbers = array_1[array_1 % 2 != 0]\n",
        "\n",
        "print(\"Array_1:\", array_1)\n",
        "print(\"Odd Numbers:\", odd_numbers)"
      ],
      "metadata": {
        "colab": {
          "base_uri": "https://localhost:8080/"
        },
        "id": "UDQCmQ4N7mDW",
        "outputId": "14d5ff9f-0723-46d2-be6a-5cce259e6499"
      },
      "execution_count": null,
      "outputs": [
        {
          "output_type": "stream",
          "name": "stdout",
          "text": [
            "Array_1: [0 1 2 3 4 5 6 7 8 9]\n",
            "Odd Numbers: [1 3 5 7 9]\n"
          ]
        }
      ]
    },
    {
      "cell_type": "markdown",
      "source": [
        "Task 4\n",
        "\n",
        "Replace all the odd numbers in the previous array with -1.\n",
        "==> array([ 0, -1, 2, -1, 4, -1, 6, -1, 8, -1])"
      ],
      "metadata": {
        "id": "BK9t4OkS7mdp"
      }
    },
    {
      "cell_type": "code",
      "source": [
        "\n",
        "\n",
        "array_1 = np.array([0, 1, 2, 3, 4, 5, 6, 7, 8, 9])\n",
        "\n",
        "\n",
        "\n",
        "\n",
        "# Replace odd numbers with -1\n",
        "array_1 = np.where(array_1 % 2 != 0, -1, array_1)\n",
        "\n",
        "print(\"Array_1:\", array_1)"
      ],
      "metadata": {
        "colab": {
          "base_uri": "https://localhost:8080/"
        },
        "id": "83ujkoiQ7m1L",
        "outputId": "c945e793-e27d-4d80-a8b4-c0245e5ad71b"
      },
      "execution_count": null,
      "outputs": [
        {
          "output_type": "stream",
          "name": "stdout",
          "text": [
            "Array_1: [ 0 -1  2 -1  4 -1  6 -1  8 -1]\n"
          ]
        }
      ]
    },
    {
      "cell_type": "markdown",
      "source": [
        "Task 5\n",
        "\n",
        "Replace all the odd numbers in the previous array with -1 without affecting the original\n",
        "array.\n",
        "arr = np.array([0, 1, 2, 3, 4, 5, 6, 7, 8, 9])\n",
        "out\n",
        "> array([ 0, -1, 2, -1, 4, -1, 6, -1, 8, -1])\n",
        "arr\n",
        "> array([0, 1, 2, 3, 4, 5, 6, 7, 8, 9])"
      ],
      "metadata": {
        "id": "PH2Pxyg87nGz"
      }
    },
    {
      "cell_type": "code",
      "source": [
        "\n",
        "\n",
        "array_1 = np.array([0, 1, 2, 3, 4, 5, 6, 7, 8, 9])\n",
        "\n",
        "# Replace odd numbers with -1\n",
        "modified_array = np.where(array_1 % 2 != 0, -1, array_1)\n",
        "\n",
        "print(\"Array_1:\", array_1)\n",
        "print(\"Modified Array:\", modified_array)"
      ],
      "metadata": {
        "colab": {
          "base_uri": "https://localhost:8080/"
        },
        "id": "63agTs2W7nch",
        "outputId": "a2678b90-8098-4aad-ab6d-15e648c6385e"
      },
      "execution_count": null,
      "outputs": [
        {
          "output_type": "stream",
          "name": "stdout",
          "text": [
            "Array_1: [0 1 2 3 4 5 6 7 8 9]\n",
            "Modified Array: [ 0 -1  2 -1  4 -1  6 -1  8 -1]\n"
          ]
        }
      ]
    },
    {
      "cell_type": "markdown",
      "source": [
        "Task 6\n",
        "\n",
        "Get the positions where elements of a and b match\n",
        "a = np.array([1,2,3,2,3,4,3,4,5,6])\n",
        "b = np.array([7,2,10,2,7,4,9,4,9,8])"
      ],
      "metadata": {
        "id": "VUgGb4AU7nqb"
      }
    },
    {
      "cell_type": "code",
      "source": [
        "\n",
        "\n",
        "a = np.array([1, 2, 3, 2, 3, 4, 3, 4, 5, 6])\n",
        "b = np.array([7, 2, 10, 2, 7, 4, 9, 4, 9, 8])\n",
        "\n",
        "matching_positions = np.where(a == b)\n",
        "\n",
        "print(\"Matching Positions:\", matching_positions)"
      ],
      "metadata": {
        "colab": {
          "base_uri": "https://localhost:8080/"
        },
        "id": "2s4xjuYY7oE2",
        "outputId": "7fd4d70a-f0c1-4cd6-b144-8fd813d4fc07"
      },
      "execution_count": null,
      "outputs": [
        {
          "output_type": "stream",
          "name": "stdout",
          "text": [
            "Matching Positions: (array([1, 3, 5, 7]),)\n"
          ]
        }
      ]
    },
    {
      "cell_type": "markdown",
      "source": [
        "Task 7\n",
        "\n",
        "Get all the items between 5 and 10 from a.\n",
        "a = np.array([2, 6, 1, 9, 10, 3, 27])"
      ],
      "metadata": {
        "id": "8ywZ3KX77oio"
      }
    },
    {
      "cell_type": "code",
      "source": [
        "\n",
        "\n",
        "a = np.array([2, 6, 1, 9, 10, 3, 27])\n",
        "\n",
        "items = a[(a >= 5) & (a <= 10)]\n",
        "\n",
        "print(\"Items between 5 and 10:\", items)"
      ],
      "metadata": {
        "colab": {
          "base_uri": "https://localhost:8080/"
        },
        "id": "ndAal3eS7oxC",
        "outputId": "28ea9872-40a4-40a1-a538-1e89d98a0a81"
      },
      "execution_count": null,
      "outputs": [
        {
          "output_type": "stream",
          "name": "stdout",
          "text": [
            "Items between 5 and 10: [ 6  9 10]\n"
          ]
        }
      ]
    },
    {
      "cell_type": "markdown",
      "source": [
        "Task 8\n",
        "\n",
        "Create a vector of size 10 with zeros. Then create a vector of size 10 with ones. Change\n",
        "their dimension and after that merge the the two vector vertically and horizontally using\n",
        "“concatenate”."
      ],
      "metadata": {
        "id": "LUfXtYTuDIIe"
      }
    },
    {
      "cell_type": "code",
      "source": [
        "\n",
        "\n",
        "# Create a vector of size 10 with zero\n",
        "zero_vector = np.zeros(10)\n",
        "\n",
        "# Create a vector of size 10 with ones\n",
        "one_vector = np.ones(10)\n",
        "\n",
        "# Reshape the vectors to have 10 rows and 1 column\n",
        "zero_vector = zero_vector.reshape(10, 1)\n",
        "one_vector = one_vector.reshape(10, 1)\n",
        "\n",
        "# Vertically concatenate the vectors\n",
        "vertical_concatenated = np.concatenate((zero_vector, one_vector), axis=0)\n",
        "\n",
        "# Horizontally concatenate the vectors\n",
        "horizontal_concatenated = np.concatenate((zero_vector, one_vector), axis=1)\n",
        "\n",
        "print(\"Zeros Vector:\")\n",
        "print(zero_vector)\n",
        "\n",
        "print(\"\\nOnes Vector:\")\n",
        "print(one_vector)\n",
        "\n",
        "print(\"\\nVertically Concatenated:\")\n",
        "print(vertical_concatenated)\n",
        "\n",
        "print(\"\\nHorizontally Concatenated:\")\n",
        "print(horizontal_concatenated)"
      ],
      "metadata": {
        "colab": {
          "base_uri": "https://localhost:8080/"
        },
        "id": "4DJrrTXTDIfA",
        "outputId": "f4673c4e-0ed9-449a-d993-d517e90a00a3"
      },
      "execution_count": null,
      "outputs": [
        {
          "output_type": "stream",
          "name": "stdout",
          "text": [
            "Zeros Vector:\n",
            "[[0.]\n",
            " [0.]\n",
            " [0.]\n",
            " [0.]\n",
            " [0.]\n",
            " [0.]\n",
            " [0.]\n",
            " [0.]\n",
            " [0.]\n",
            " [0.]]\n",
            "\n",
            "Ones Vector:\n",
            "[[1.]\n",
            " [1.]\n",
            " [1.]\n",
            " [1.]\n",
            " [1.]\n",
            " [1.]\n",
            " [1.]\n",
            " [1.]\n",
            " [1.]\n",
            " [1.]]\n",
            "\n",
            "Vertically Concatenated:\n",
            "[[0.]\n",
            " [0.]\n",
            " [0.]\n",
            " [0.]\n",
            " [0.]\n",
            " [0.]\n",
            " [0.]\n",
            " [0.]\n",
            " [0.]\n",
            " [0.]\n",
            " [1.]\n",
            " [1.]\n",
            " [1.]\n",
            " [1.]\n",
            " [1.]\n",
            " [1.]\n",
            " [1.]\n",
            " [1.]\n",
            " [1.]\n",
            " [1.]]\n",
            "\n",
            "Horizontally Concatenated:\n",
            "[[0. 1.]\n",
            " [0. 1.]\n",
            " [0. 1.]\n",
            " [0. 1.]\n",
            " [0. 1.]\n",
            " [0. 1.]\n",
            " [0. 1.]\n",
            " [0. 1.]\n",
            " [0. 1.]\n",
            " [0. 1.]]\n"
          ]
        }
      ]
    },
    {
      "cell_type": "markdown",
      "source": [
        "Task 9\n",
        "\n",
        "Create an ndarray x of shape= (5, 4) with random numbers – Each of the 5 rows represents\n",
        "a sample with 4 features"
      ],
      "metadata": {
        "id": "ChrZV9W5DIt0"
      }
    },
    {
      "cell_type": "code",
      "source": [
        "# np.random.seed(0)\n",
        "\n",
        "# Create a 5x4 ndarray with random numbers\n",
        "x = np.random.rand(5, 4)\n",
        "\n",
        "print(x)\n",
        "\n"
      ],
      "metadata": {
        "colab": {
          "base_uri": "https://localhost:8080/"
        },
        "id": "G3dzuFwTDJH0",
        "outputId": "eafc89fc-d2d2-409d-cbda-c029522539e3"
      },
      "execution_count": null,
      "outputs": [
        {
          "output_type": "stream",
          "name": "stdout",
          "text": [
            "[[4.20100479e-01 6.86345101e-02 2.95890034e-01 7.79347913e-01]\n",
            " [8.19046705e-02 9.26604446e-01 8.60806131e-01 3.42602203e-01]\n",
            " [4.78425694e-01 6.69895667e-01 9.78978121e-01 5.86896261e-01]\n",
            " [4.04958008e-02 7.12237392e-01 5.58481751e-01 9.24266182e-01]\n",
            " [5.26869106e-03 3.38772112e-02 2.46753393e-04 3.24673105e-01]]\n"
          ]
        }
      ]
    },
    {
      "cell_type": "markdown",
      "source": [
        "Task 10\n",
        "\n",
        "Create a flat ndarray y of shape=(5, ), whose elements are 0 and 1 – Each element\n",
        "is the class label of the corresponding sample in x [Hint: use np.random.rand(...) and\n",
        "np.random.randint(...)]\n",
        "import numpy as np\n",
        "n_samples = 5\n",
        "n_features = 4\n",
        "x = np.random.rand(n_samples, n_features)\n",
        "y = np.random.randint(0, 2, n_samples)\n",
        "print ’x =’, x\n",
        "print ’y =’, y"
      ],
      "metadata": {
        "id": "3TI3teInDJW8"
      }
    },
    {
      "cell_type": "code",
      "source": [
        "\n",
        "\n",
        "n_samples = 5\n",
        "n_features = 4\n",
        "\n",
        "#x = np.random.rand(n_samples, n_features)\n",
        "y = np.random.randint(0, 2, n_samples)\n",
        "\n",
        "#print('x =', x)\n",
        "print('y =', y)"
      ],
      "metadata": {
        "colab": {
          "base_uri": "https://localhost:8080/"
        },
        "id": "2a9JmcT1DJq5",
        "outputId": "d06f92b3-0cef-4670-c408-aa2b6d5b919c"
      },
      "execution_count": null,
      "outputs": [
        {
          "output_type": "stream",
          "name": "stdout",
          "text": [
            "y = [1 0 0 0 0]\n"
          ]
        }
      ]
    },
    {
      "cell_type": "markdown",
      "source": [
        "Task 11\n",
        "\n",
        "Define a function extract_subset(x, y, y0) that takes as input: – the feature matrix x, and\n",
        "the labels y from the previous exercise – a target class y0 (i.e., either y0=0 or y0=1) and\n",
        "returns a feature matrix containing only samples belonging to y0"
      ],
      "metadata": {
        "id": "p6-jaTnODKLC"
      }
    },
    {
      "cell_type": "code",
      "source": [
        "\n",
        "\n",
        "def extract_subset(x, y, y0):\n",
        "    subset_x = x[y == y0]\n",
        "    return subset_x\n",
        "\n",
        "y0 = 1\n",
        "\n",
        "subset_x = extract_subset(x, y, y0)\n",
        "\n",
        "print(\"Original x:\")\n",
        "print(x)\n",
        "\n",
        "print(\"\\nSubset x for target class\", y0, \":\")\n",
        "print(subset_x)\n",
        "\n"
      ],
      "metadata": {
        "colab": {
          "base_uri": "https://localhost:8080/"
        },
        "id": "kp7vD_7cDKcx",
        "outputId": "04ab3c72-b938-4591-8ac3-7b93b29ed6cf"
      },
      "execution_count": null,
      "outputs": [
        {
          "output_type": "stream",
          "name": "stdout",
          "text": [
            "Original x:\n",
            "[[0.28834358 0.55246414 0.04583097 0.22269079]\n",
            " [0.97631947 0.75117368 0.23346312 0.16310892]\n",
            " [0.14665779 0.09670735 0.9024229  0.73541995]\n",
            " [0.10277587 0.22512866 0.27296103 0.59379828]\n",
            " [0.16537309 0.52751809 0.83663681 0.7516464 ]]\n",
            "\n",
            "Subset x for target class 1 :\n",
            "[[0.28834358 0.55246414 0.04583097 0.22269079]]\n"
          ]
        }
      ]
    },
    {
      "cell_type": "markdown",
      "source": [
        "Task 12\n",
        "\n",
        "Import a dataset (IRIS dataset) by keeping the text and numbers intact."
      ],
      "metadata": {
        "id": "9pdS04V2DK1g"
      }
    },
    {
      "cell_type": "code",
      "source": [
        "from sklearn.datasets import load_iris\n",
        "\n",
        "# Load the IRIS dataset\n",
        "iris = load_iris()\n",
        "print(iris.data)\n",
        "print(iris.target)\n",
        "\n",
        "# Access the data\n",
        "data = iris.data\n",
        "target = iris.target\n",
        "\n",
        "# Print the description of the dataset\n",
        "print(iris.DESCR)\n",
        "\n",
        "# Print the feature names\n",
        "print(\"Feature Names:\", iris.feature_names)\n",
        "\n",
        "# Print the target names\n",
        "print(\"Target Names:\", iris.target_names)\n",
        "\n",
        "# Print the first few samples\n",
        "print(\"Data Samples:\")\n",
        "for i in range(5):\n",
        "    print(\"Sample {}: Features: {}, Target: {}\".format(i + 1, data[i], target[i]))\n"
      ],
      "metadata": {
        "colab": {
          "base_uri": "https://localhost:8080/"
        },
        "id": "UTufcHDxDLIL",
        "outputId": "0efe5409-8919-464b-d433-9d7814b7f120"
      },
      "execution_count": null,
      "outputs": [
        {
          "output_type": "stream",
          "name": "stdout",
          "text": [
            "[[5.1 3.5 1.4 0.2]\n",
            " [4.9 3.  1.4 0.2]\n",
            " [4.7 3.2 1.3 0.2]\n",
            " [4.6 3.1 1.5 0.2]\n",
            " [5.  3.6 1.4 0.2]\n",
            " [5.4 3.9 1.7 0.4]\n",
            " [4.6 3.4 1.4 0.3]\n",
            " [5.  3.4 1.5 0.2]\n",
            " [4.4 2.9 1.4 0.2]\n",
            " [4.9 3.1 1.5 0.1]\n",
            " [5.4 3.7 1.5 0.2]\n",
            " [4.8 3.4 1.6 0.2]\n",
            " [4.8 3.  1.4 0.1]\n",
            " [4.3 3.  1.1 0.1]\n",
            " [5.8 4.  1.2 0.2]\n",
            " [5.7 4.4 1.5 0.4]\n",
            " [5.4 3.9 1.3 0.4]\n",
            " [5.1 3.5 1.4 0.3]\n",
            " [5.7 3.8 1.7 0.3]\n",
            " [5.1 3.8 1.5 0.3]\n",
            " [5.4 3.4 1.7 0.2]\n",
            " [5.1 3.7 1.5 0.4]\n",
            " [4.6 3.6 1.  0.2]\n",
            " [5.1 3.3 1.7 0.5]\n",
            " [4.8 3.4 1.9 0.2]\n",
            " [5.  3.  1.6 0.2]\n",
            " [5.  3.4 1.6 0.4]\n",
            " [5.2 3.5 1.5 0.2]\n",
            " [5.2 3.4 1.4 0.2]\n",
            " [4.7 3.2 1.6 0.2]\n",
            " [4.8 3.1 1.6 0.2]\n",
            " [5.4 3.4 1.5 0.4]\n",
            " [5.2 4.1 1.5 0.1]\n",
            " [5.5 4.2 1.4 0.2]\n",
            " [4.9 3.1 1.5 0.2]\n",
            " [5.  3.2 1.2 0.2]\n",
            " [5.5 3.5 1.3 0.2]\n",
            " [4.9 3.6 1.4 0.1]\n",
            " [4.4 3.  1.3 0.2]\n",
            " [5.1 3.4 1.5 0.2]\n",
            " [5.  3.5 1.3 0.3]\n",
            " [4.5 2.3 1.3 0.3]\n",
            " [4.4 3.2 1.3 0.2]\n",
            " [5.  3.5 1.6 0.6]\n",
            " [5.1 3.8 1.9 0.4]\n",
            " [4.8 3.  1.4 0.3]\n",
            " [5.1 3.8 1.6 0.2]\n",
            " [4.6 3.2 1.4 0.2]\n",
            " [5.3 3.7 1.5 0.2]\n",
            " [5.  3.3 1.4 0.2]\n",
            " [7.  3.2 4.7 1.4]\n",
            " [6.4 3.2 4.5 1.5]\n",
            " [6.9 3.1 4.9 1.5]\n",
            " [5.5 2.3 4.  1.3]\n",
            " [6.5 2.8 4.6 1.5]\n",
            " [5.7 2.8 4.5 1.3]\n",
            " [6.3 3.3 4.7 1.6]\n",
            " [4.9 2.4 3.3 1. ]\n",
            " [6.6 2.9 4.6 1.3]\n",
            " [5.2 2.7 3.9 1.4]\n",
            " [5.  2.  3.5 1. ]\n",
            " [5.9 3.  4.2 1.5]\n",
            " [6.  2.2 4.  1. ]\n",
            " [6.1 2.9 4.7 1.4]\n",
            " [5.6 2.9 3.6 1.3]\n",
            " [6.7 3.1 4.4 1.4]\n",
            " [5.6 3.  4.5 1.5]\n",
            " [5.8 2.7 4.1 1. ]\n",
            " [6.2 2.2 4.5 1.5]\n",
            " [5.6 2.5 3.9 1.1]\n",
            " [5.9 3.2 4.8 1.8]\n",
            " [6.1 2.8 4.  1.3]\n",
            " [6.3 2.5 4.9 1.5]\n",
            " [6.1 2.8 4.7 1.2]\n",
            " [6.4 2.9 4.3 1.3]\n",
            " [6.6 3.  4.4 1.4]\n",
            " [6.8 2.8 4.8 1.4]\n",
            " [6.7 3.  5.  1.7]\n",
            " [6.  2.9 4.5 1.5]\n",
            " [5.7 2.6 3.5 1. ]\n",
            " [5.5 2.4 3.8 1.1]\n",
            " [5.5 2.4 3.7 1. ]\n",
            " [5.8 2.7 3.9 1.2]\n",
            " [6.  2.7 5.1 1.6]\n",
            " [5.4 3.  4.5 1.5]\n",
            " [6.  3.4 4.5 1.6]\n",
            " [6.7 3.1 4.7 1.5]\n",
            " [6.3 2.3 4.4 1.3]\n",
            " [5.6 3.  4.1 1.3]\n",
            " [5.5 2.5 4.  1.3]\n",
            " [5.5 2.6 4.4 1.2]\n",
            " [6.1 3.  4.6 1.4]\n",
            " [5.8 2.6 4.  1.2]\n",
            " [5.  2.3 3.3 1. ]\n",
            " [5.6 2.7 4.2 1.3]\n",
            " [5.7 3.  4.2 1.2]\n",
            " [5.7 2.9 4.2 1.3]\n",
            " [6.2 2.9 4.3 1.3]\n",
            " [5.1 2.5 3.  1.1]\n",
            " [5.7 2.8 4.1 1.3]\n",
            " [6.3 3.3 6.  2.5]\n",
            " [5.8 2.7 5.1 1.9]\n",
            " [7.1 3.  5.9 2.1]\n",
            " [6.3 2.9 5.6 1.8]\n",
            " [6.5 3.  5.8 2.2]\n",
            " [7.6 3.  6.6 2.1]\n",
            " [4.9 2.5 4.5 1.7]\n",
            " [7.3 2.9 6.3 1.8]\n",
            " [6.7 2.5 5.8 1.8]\n",
            " [7.2 3.6 6.1 2.5]\n",
            " [6.5 3.2 5.1 2. ]\n",
            " [6.4 2.7 5.3 1.9]\n",
            " [6.8 3.  5.5 2.1]\n",
            " [5.7 2.5 5.  2. ]\n",
            " [5.8 2.8 5.1 2.4]\n",
            " [6.4 3.2 5.3 2.3]\n",
            " [6.5 3.  5.5 1.8]\n",
            " [7.7 3.8 6.7 2.2]\n",
            " [7.7 2.6 6.9 2.3]\n",
            " [6.  2.2 5.  1.5]\n",
            " [6.9 3.2 5.7 2.3]\n",
            " [5.6 2.8 4.9 2. ]\n",
            " [7.7 2.8 6.7 2. ]\n",
            " [6.3 2.7 4.9 1.8]\n",
            " [6.7 3.3 5.7 2.1]\n",
            " [7.2 3.2 6.  1.8]\n",
            " [6.2 2.8 4.8 1.8]\n",
            " [6.1 3.  4.9 1.8]\n",
            " [6.4 2.8 5.6 2.1]\n",
            " [7.2 3.  5.8 1.6]\n",
            " [7.4 2.8 6.1 1.9]\n",
            " [7.9 3.8 6.4 2. ]\n",
            " [6.4 2.8 5.6 2.2]\n",
            " [6.3 2.8 5.1 1.5]\n",
            " [6.1 2.6 5.6 1.4]\n",
            " [7.7 3.  6.1 2.3]\n",
            " [6.3 3.4 5.6 2.4]\n",
            " [6.4 3.1 5.5 1.8]\n",
            " [6.  3.  4.8 1.8]\n",
            " [6.9 3.1 5.4 2.1]\n",
            " [6.7 3.1 5.6 2.4]\n",
            " [6.9 3.1 5.1 2.3]\n",
            " [5.8 2.7 5.1 1.9]\n",
            " [6.8 3.2 5.9 2.3]\n",
            " [6.7 3.3 5.7 2.5]\n",
            " [6.7 3.  5.2 2.3]\n",
            " [6.3 2.5 5.  1.9]\n",
            " [6.5 3.  5.2 2. ]\n",
            " [6.2 3.4 5.4 2.3]\n",
            " [5.9 3.  5.1 1.8]]\n",
            "[0 0 0 0 0 0 0 0 0 0 0 0 0 0 0 0 0 0 0 0 0 0 0 0 0 0 0 0 0 0 0 0 0 0 0 0 0\n",
            " 0 0 0 0 0 0 0 0 0 0 0 0 0 1 1 1 1 1 1 1 1 1 1 1 1 1 1 1 1 1 1 1 1 1 1 1 1\n",
            " 1 1 1 1 1 1 1 1 1 1 1 1 1 1 1 1 1 1 1 1 1 1 1 1 1 1 2 2 2 2 2 2 2 2 2 2 2\n",
            " 2 2 2 2 2 2 2 2 2 2 2 2 2 2 2 2 2 2 2 2 2 2 2 2 2 2 2 2 2 2 2 2 2 2 2 2 2\n",
            " 2 2]\n",
            ".. _iris_dataset:\n",
            "\n",
            "Iris plants dataset\n",
            "--------------------\n",
            "\n",
            "**Data Set Characteristics:**\n",
            "\n",
            "    :Number of Instances: 150 (50 in each of three classes)\n",
            "    :Number of Attributes: 4 numeric, predictive attributes and the class\n",
            "    :Attribute Information:\n",
            "        - sepal length in cm\n",
            "        - sepal width in cm\n",
            "        - petal length in cm\n",
            "        - petal width in cm\n",
            "        - class:\n",
            "                - Iris-Setosa\n",
            "                - Iris-Versicolour\n",
            "                - Iris-Virginica\n",
            "                \n",
            "    :Summary Statistics:\n",
            "\n",
            "    ============== ==== ==== ======= ===== ====================\n",
            "                    Min  Max   Mean    SD   Class Correlation\n",
            "    ============== ==== ==== ======= ===== ====================\n",
            "    sepal length:   4.3  7.9   5.84   0.83    0.7826\n",
            "    sepal width:    2.0  4.4   3.05   0.43   -0.4194\n",
            "    petal length:   1.0  6.9   3.76   1.76    0.9490  (high!)\n",
            "    petal width:    0.1  2.5   1.20   0.76    0.9565  (high!)\n",
            "    ============== ==== ==== ======= ===== ====================\n",
            "\n",
            "    :Missing Attribute Values: None\n",
            "    :Class Distribution: 33.3% for each of 3 classes.\n",
            "    :Creator: R.A. Fisher\n",
            "    :Donor: Michael Marshall (MARSHALL%PLU@io.arc.nasa.gov)\n",
            "    :Date: July, 1988\n",
            "\n",
            "The famous Iris database, first used by Sir R.A. Fisher. The dataset is taken\n",
            "from Fisher's paper. Note that it's the same as in R, but not as in the UCI\n",
            "Machine Learning Repository, which has two wrong data points.\n",
            "\n",
            "This is perhaps the best known database to be found in the\n",
            "pattern recognition literature.  Fisher's paper is a classic in the field and\n",
            "is referenced frequently to this day.  (See Duda & Hart, for example.)  The\n",
            "data set contains 3 classes of 50 instances each, where each class refers to a\n",
            "type of iris plant.  One class is linearly separable from the other 2; the\n",
            "latter are NOT linearly separable from each other.\n",
            "\n",
            ".. topic:: References\n",
            "\n",
            "   - Fisher, R.A. \"The use of multiple measurements in taxonomic problems\"\n",
            "     Annual Eugenics, 7, Part II, 179-188 (1936); also in \"Contributions to\n",
            "     Mathematical Statistics\" (John Wiley, NY, 1950).\n",
            "   - Duda, R.O., & Hart, P.E. (1973) Pattern Classification and Scene Analysis.\n",
            "     (Q327.D83) John Wiley & Sons.  ISBN 0-471-22361-1.  See page 218.\n",
            "   - Dasarathy, B.V. (1980) \"Nosing Around the Neighborhood: A New System\n",
            "     Structure and Classification Rule for Recognition in Partially Exposed\n",
            "     Environments\".  IEEE Transactions on Pattern Analysis and Machine\n",
            "     Intelligence, Vol. PAMI-2, No. 1, 67-71.\n",
            "   - Gates, G.W. (1972) \"The Reduced Nearest Neighbor Rule\".  IEEE Transactions\n",
            "     on Information Theory, May 1972, 431-433.\n",
            "   - See also: 1988 MLC Proceedings, 54-64.  Cheeseman et al\"s AUTOCLASS II\n",
            "     conceptual clustering system finds 3 classes in the data.\n",
            "   - Many, many more ...\n",
            "Feature Names: ['sepal length (cm)', 'sepal width (cm)', 'petal length (cm)', 'petal width (cm)']\n",
            "Target Names: ['setosa' 'versicolor' 'virginica']\n",
            "Data Samples:\n",
            "Sample 1: Features: [5.1 3.5 1.4 0.2], Target: 0\n",
            "Sample 2: Features: [4.9 3.  1.4 0.2], Target: 0\n",
            "Sample 3: Features: [4.7 3.2 1.3 0.2], Target: 0\n",
            "Sample 4: Features: [4.6 3.1 1.5 0.2], Target: 0\n",
            "Sample 5: Features: [5.  3.6 1.4 0.2], Target: 0\n"
          ]
        }
      ]
    },
    {
      "cell_type": "markdown",
      "source": [
        "Task 13\n",
        "\n",
        "Find the mean, median and standard deviation of the 1st column of the given dataset.\n",
        "Give statistical summary of the dataset as many as possible."
      ],
      "metadata": {
        "id": "B24S57HeDLZc"
      }
    },
    {
      "cell_type": "code",
      "source": [
        "import numpy as np\n",
        "from sklearn.datasets import load_iris\n",
        "\n",
        "# Load the IRIS dataset\n",
        "iris = load_iris()\n",
        "\n",
        "# Access the data\n",
        "data = iris.data\n",
        "\n",
        "# Extract the 1st column\n",
        "first_column = data[:, 0]\n",
        "\n",
        "# Calculate mean, median, and standard deviation\n",
        "mean = np.mean(first_column)\n",
        "median = np.median(first_column)\n",
        "std_dev = np.std(first_column)\n",
        "\n",
        "print(\"Mean:\", mean)\n",
        "print(\"Median:\", median)\n",
        "print(\"Standard Deviation:\", std_dev)\n",
        "\n",
        "\n"
      ],
      "metadata": {
        "colab": {
          "base_uri": "https://localhost:8080/"
        },
        "id": "2jjdccFQDLsG",
        "outputId": "c787b412-d7a8-4ac9-8cc4-9d79f6006db0"
      },
      "execution_count": null,
      "outputs": [
        {
          "output_type": "stream",
          "name": "stdout",
          "text": [
            "Mean: 5.843333333333334\n",
            "Median: 5.8\n",
            "Standard Deviation: 0.8253012917851409\n"
          ]
        }
      ]
    }
  ]
}