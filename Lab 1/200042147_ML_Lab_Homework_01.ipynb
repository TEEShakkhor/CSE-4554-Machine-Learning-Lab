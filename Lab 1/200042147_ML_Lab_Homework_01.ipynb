{
  "nbformat": 4,
  "nbformat_minor": 0,
  "metadata": {
    "colab": {
      "provenance": []
    },
    "kernelspec": {
      "name": "python3",
      "display_name": "Python 3"
    },
    "language_info": {
      "name": "python"
    }
  },
  "cells": [
    {
      "cell_type": "markdown",
      "source": [
        "Task 3.1.1\n",
        "\n",
        "Generate two random 2x2 matrices A and B. Multiply them together and print the result."
      ],
      "metadata": {
        "id": "_kIIuGZSK5Iu"
      }
    },
    {
      "cell_type": "code",
      "execution_count": null,
      "metadata": {
        "colab": {
          "base_uri": "https://localhost:8080/"
        },
        "id": "dX0azqGZKEDD",
        "outputId": "e82177f2-d20a-43fe-a823-803f104867bf"
      },
      "outputs": [
        {
          "output_type": "stream",
          "name": "stdout",
          "text": [
            "Matrix A:\n",
            "[[3 9]\n",
            " [2 5]] \n",
            "\n",
            "Matrix B:\n",
            "[[5 6]\n",
            " [6 0]] \n",
            "\n",
            "Result of A * B:\n",
            "[[69 18]\n",
            " [40 12]]\n"
          ]
        }
      ],
      "source": [
        "import numpy as np\n",
        "\n",
        "A = np.random.randint(10,size=(2,2))\n",
        "B = np.random.randint(10,size=(2,2))\n",
        "\n",
        "result = np.dot(A, B)\n",
        "print(\"Matrix A:\")\n",
        "print(A,\"\\n\")\n",
        "print(\"Matrix B:\")\n",
        "print(B,\"\\n\")\n",
        "print(\"Result of A * B:\")\n",
        "print(result)"
      ]
    },
    {
      "cell_type": "markdown",
      "source": [
        "Task 3.1.2\n",
        "\n",
        "Create two 3x3 matrices C and D. Manually calculate the matrix multiplication CD and\n",
        "verify it is the same as C.dot(D)."
      ],
      "metadata": {
        "id": "wDIFHG-pK1z8"
      }
    },
    {
      "cell_type": "code",
      "source": [
        "import numpy as np\n",
        "\n",
        "C = np.array([[1, 2, 3],\n",
        "              [4, 5, 6],\n",
        "              [7, 8, 9]])\n",
        "\n",
        "D = np.array([[9, 8, 7],\n",
        "              [6, 5, 4],\n",
        "              [3, 2, 1]])\n",
        "\n",
        "manual_result = np.zeros((C.shape[0], D.shape[1]))\n",
        "\n",
        "for i in range(C.shape[0]):\n",
        "    for j in range(D.shape[1]):\n",
        "        for k in range(C.shape[1]):\n",
        "            manual_result[i, j] += C[i, k] * D[k, j]\n",
        "\n",
        "numpy_result = C.dot(D)\n",
        "\n",
        "print(\"Matrix C:\")\n",
        "print(C)\n",
        "print(\"Matrix D:\")\n",
        "print(D)\n",
        "print(\"Manually calculated result of C * D:\")\n",
        "print(manual_result)\n",
        "print(\"Numpy calculated result of C.dot(D):\")\n",
        "print(numpy_result)\n",
        "\n",
        "# Verification\n",
        "if np.allclose(manual_result, numpy_result):\n",
        "    print(\"Manual calculation matches numpy result.\")\n",
        "else:\n",
        "    print(\"Manual calculation does not match numpy result.\")\n"
      ],
      "metadata": {
        "colab": {
          "base_uri": "https://localhost:8080/"
        },
        "id": "6UdQTBiNK2Xp",
        "outputId": "d1c971e0-100d-4f72-e49d-77493d30c4b2"
      },
      "execution_count": null,
      "outputs": [
        {
          "output_type": "stream",
          "name": "stdout",
          "text": [
            "Matrix C:\n",
            "[[1 2 3]\n",
            " [4 5 6]\n",
            " [7 8 9]]\n",
            "Matrix D:\n",
            "[[9 8 7]\n",
            " [6 5 4]\n",
            " [3 2 1]]\n",
            "Manually calculated result of C * D:\n",
            "[[ 30.  24.  18.]\n",
            " [ 84.  69.  54.]\n",
            " [138. 114.  90.]]\n",
            "Numpy calculated result of C.dot(D):\n",
            "[[ 30  24  18]\n",
            " [ 84  69  54]\n",
            " [138 114  90]]\n",
            "Manual calculation matches numpy result.\n"
          ]
        }
      ]
    },
    {
      "cell_type": "markdown",
      "source": [
        "Task 3.1.3\n",
        "\n",
        "Given a matrix A, calculate ATA where T denotes the transpose."
      ],
      "metadata": {
        "id": "yEfejmqfK3Gl"
      }
    },
    {
      "cell_type": "code",
      "source": [
        "import numpy as np\n",
        "\n",
        "A = np.array([[1, 2],\n",
        "              [3, 4],\n",
        "              [5, 6]])\n",
        "\n",
        "ATA = np.dot(A.T, A)\n",
        "\n",
        "print(\"Matrix A:\")\n",
        "print(A)\n",
        "print(\"Transpose of A:\")\n",
        "print(A.T)\n",
        "print(\"Result of A.T * A (ATA):\")\n",
        "print(ATA)\n"
      ],
      "metadata": {
        "id": "iZkVC06sLdx0",
        "colab": {
          "base_uri": "https://localhost:8080/"
        },
        "outputId": "d5b0b9d2-ed31-4e2a-c0fa-628fcd05ba0e"
      },
      "execution_count": null,
      "outputs": [
        {
          "output_type": "stream",
          "name": "stdout",
          "text": [
            "Matrix A:\n",
            "[[1 2]\n",
            " [3 4]\n",
            " [5 6]]\n",
            "Transpose of A:\n",
            "[[1 3 5]\n",
            " [2 4 6]]\n",
            "Result of A.T * A (ATA):\n",
            "[[35 44]\n",
            " [44 56]]\n"
          ]
        }
      ]
    },
    {
      "cell_type": "markdown",
      "source": [
        "Task 3.1.4\n",
        "\n",
        "Multiply a 4x3 matrix B with a 3x2 matrix A. Confirm the dimensions of the resulting\n",
        "matrix."
      ],
      "metadata": {
        "id": "hmI7QkK9Lb4I"
      }
    },
    {
      "cell_type": "code",
      "source": [
        "A = np.random.randint(10,size=(3, 2))\n",
        "B = np.random.randint(10,size=(4, 3))\n",
        "\n",
        "result = np.dot(B, A)\n",
        "\n",
        "print(\"Matrix A:\")\n",
        "print(A)\n",
        "print(\"Matrix B:\")\n",
        "print(B)\n",
        "print(\"Result of B * A:\")\n",
        "print(result)\n",
        "print(\"Dimensions of the resulting matrix:\")\n",
        "print(result.shape)\n"
      ],
      "metadata": {
        "id": "WA8wyHJaLeJQ",
        "colab": {
          "base_uri": "https://localhost:8080/"
        },
        "outputId": "90fde9c9-89fe-4360-fb2e-630c0d7c51de"
      },
      "execution_count": null,
      "outputs": [
        {
          "output_type": "stream",
          "name": "stdout",
          "text": [
            "Matrix A:\n",
            "[[8 4]\n",
            " [0 2]\n",
            " [6 7]]\n",
            "Matrix B:\n",
            "[[1 5 3]\n",
            " [0 7 9]\n",
            " [9 4 5]\n",
            " [7 4 3]]\n",
            "Result of B * A:\n",
            "[[ 26  35]\n",
            " [ 54  77]\n",
            " [102  79]\n",
            " [ 74  57]]\n",
            "Dimensions of the result matrix:\n",
            "(4, 2)\n"
          ]
        }
      ]
    },
    {
      "cell_type": "markdown",
      "source": [
        "Task 3.1.5\n",
        "\n",
        "Given two matrices A and B, show that in general A · B ̸= B · A."
      ],
      "metadata": {
        "id": "v8L7kdn9Leo3"
      }
    },
    {
      "cell_type": "code",
      "source": [
        "from os import pwritev\n",
        "A = np.random.randint(10,size=(3, 2))\n",
        "B = np.random.randint(10,size=(2, 3))\n",
        "\n",
        "print(\"Matrix A:\")\n",
        "print(A)\n",
        "print(\"Matrix B:\")\n",
        "print(B)\n",
        "AB=np.dot(A,B)\n",
        "BA=np.dot(B,A)\n",
        "print(\"A.B:\")\n",
        "print(AB)\n",
        "print(\"B.A:\")\n",
        "print(BA)\n"
      ],
      "metadata": {
        "id": "s1_HVauXLfLV",
        "colab": {
          "base_uri": "https://localhost:8080/"
        },
        "outputId": "4b0bc94c-791b-4469-e2d4-7309d2e156cd"
      },
      "execution_count": null,
      "outputs": [
        {
          "output_type": "stream",
          "name": "stdout",
          "text": [
            "Matrix A:\n",
            "[[9 0]\n",
            " [6 1]\n",
            " [4 5]]\n",
            "Matrix B:\n",
            "[[2 5 3]\n",
            " [2 8 3]]\n",
            "A.B:\n",
            "[[18 45 27]\n",
            " [14 38 21]\n",
            " [18 60 27]]\n",
            "B.A:\n",
            "[[60 20]\n",
            " [78 23]]\n"
          ]
        }
      ]
    },
    {
      "cell_type": "markdown",
      "source": [
        "Matrix multiplication is not commutative.The order of matrix multiplication matters. In general, A · B is not equal to B · A."
      ],
      "metadata": {
        "id": "6otuP6gXVM15"
      }
    },
    {
      "cell_type": "markdown",
      "source": [
        "Task 3.2.1\n",
        "\n",
        "Download the IRIS dataset as a CSV file and load the CSV file into a DataFrame. Examine\n",
        "the DataFrame using .head(), .tail(), .shape, .dtypes, etc.\n"
      ],
      "metadata": {
        "id": "GBP7HJOcLfjP"
      }
    },
    {
      "cell_type": "code",
      "source": [
        "import pandas as pd\n",
        "from sklearn.datasets import load_iris\n",
        "\n",
        "# Load the Iris dataset\n",
        "iris = load_iris()\n",
        "\n",
        "# Create a Pandas DataFrame from the iris data\n",
        "iris_df = pd.DataFrame(data=iris.data, columns=iris.feature_names)\n",
        "\n",
        "# Add a column for the target (species) labels\n",
        "iris_df['species'] = iris.target_names[iris.target]\n",
        "\n",
        "# Save the DataFrame to a CSV file\n",
        "iris_df.to_csv('iris_dataset.csv', index=False)\n"
      ],
      "metadata": {
        "id": "nyyRdGT7Lf1j"
      },
      "execution_count": null,
      "outputs": []
    },
    {
      "cell_type": "code",
      "source": [
        "# Load the CSV file into a DataFrame\n",
        "loaded_df = pd.read_csv('iris_dataset.csv')\n",
        "\n",
        "# Display the first few rows of the DataFrame\n",
        "print(\"Head of the DataFrame:\")\n",
        "print(loaded_df.head())\n",
        "\n",
        "# Display the last few rows of the DataFrame\n",
        "print(\"\\nTail of the DataFrame:\")\n",
        "print(loaded_df.tail())\n",
        "\n",
        "# Display the shape of the DataFrame (number of rows and columns)\n",
        "print(\"\\nShape of the DataFrame:\")\n",
        "print(loaded_df.shape)\n",
        "\n",
        "# Display the data types of columns\n",
        "print(\"\\nData types of columns:\")\n",
        "print(loaded_df.dtypes)\n"
      ],
      "metadata": {
        "colab": {
          "base_uri": "https://localhost:8080/"
        },
        "id": "I7an-vY0e4B1",
        "outputId": "9f290f54-ee04-4178-e562-a2d95bbb5758"
      },
      "execution_count": null,
      "outputs": [
        {
          "output_type": "stream",
          "name": "stdout",
          "text": [
            "Head of the DataFrame:\n",
            "   sepal length (cm)  sepal width (cm)  petal length (cm)  petal width (cm)  \\\n",
            "0                5.1               3.5                1.4               0.2   \n",
            "1                4.9               3.0                1.4               0.2   \n",
            "2                4.7               3.2                1.3               0.2   \n",
            "3                4.6               3.1                1.5               0.2   \n",
            "4                5.0               3.6                1.4               0.2   \n",
            "\n",
            "  species  \n",
            "0  setosa  \n",
            "1  setosa  \n",
            "2  setosa  \n",
            "3  setosa  \n",
            "4  setosa  \n",
            "\n",
            "Tail of the DataFrame:\n",
            "     sepal length (cm)  sepal width (cm)  petal length (cm)  petal width (cm)  \\\n",
            "145                6.7               3.0                5.2               2.3   \n",
            "146                6.3               2.5                5.0               1.9   \n",
            "147                6.5               3.0                5.2               2.0   \n",
            "148                6.2               3.4                5.4               2.3   \n",
            "149                5.9               3.0                5.1               1.8   \n",
            "\n",
            "       species  \n",
            "145  virginica  \n",
            "146  virginica  \n",
            "147  virginica  \n",
            "148  virginica  \n",
            "149  virginica  \n",
            "\n",
            "Shape of the DataFrame:\n",
            "(150, 5)\n",
            "\n",
            "Data types of columns:\n",
            "sepal length (cm)    float64\n",
            "sepal width (cm)     float64\n",
            "petal length (cm)    float64\n",
            "petal width (cm)     float64\n",
            "species               object\n",
            "dtype: object\n"
          ]
        }
      ]
    },
    {
      "cell_type": "markdown",
      "source": [
        "Task 3.2.2\n",
        "\n",
        "Select a specific column from the DataFrame. Create a Plot to visualize the data in that\n",
        "column."
      ],
      "metadata": {
        "id": "olXGzrcRLjcw"
      }
    },
    {
      "cell_type": "code",
      "source": [
        "import pandas as pd\n",
        "import matplotlib.pyplot as plt\n",
        "\n",
        "# Load the CSV file into a DataFrame\n",
        "loaded_df = pd.read_csv('iris_dataset.csv')\n",
        "\n",
        "# Select the \"sepal length (cm)\" column\n",
        "sepal_length_column = loaded_df['sepal length (cm)']\n",
        "\n",
        "# Create a histogram to visualize the data in the column\n",
        "plt.figure(figsize=(8, 6))\n",
        "plt.hist(sepal_length_column, bins=20, color='blue', edgecolor='black')\n",
        "plt.title('Distribution of Sepal Length')\n",
        "plt.xlabel('Sepal Length (cm)')\n",
        "plt.ylabel('Frequency')\n",
        "plt.show()\n"
      ],
      "metadata": {
        "id": "S1SYtbOULjzw",
        "colab": {
          "base_uri": "https://localhost:8080/",
          "height": 564
        },
        "outputId": "9780ee41-8954-4589-b3a6-bae7da778f81"
      },
      "execution_count": null,
      "outputs": [
        {
          "output_type": "display_data",
          "data": {
            "text/plain": [
              "<Figure size 800x600 with 1 Axes>"
            ],
            "image/png": "[encoded data removed]"
          },
          "metadata": {}
        }
      ]
    },
    {
      "cell_type": "markdown",
      "source": [
        "Task 3.2.3\n",
        "\n",
        "Filter the DataFrame to only show rows where a certain column value meets some criteria\n",
        "(e.g. only show rows where the ’Age’ column is greater than 30)."
      ],
      "metadata": {
        "id": "YSEv_LC0LkI3"
      }
    },
    {
      "cell_type": "code",
      "source": [
        "import pandas as pd\n",
        "\n",
        "# Load the CSV file into a DataFrame\n",
        "loaded_df = pd.read_csv('iris_dataset.csv')\n",
        "\n",
        "# Filter the DataFrame to show rows where sepal length is greater than 5.0\n",
        "filtered_df = loaded_df[loaded_df['sepal length (cm)'] > 5.0]\n",
        "\n",
        "# Display the filtered DataFrame\n",
        "print(filtered_df)\n"
      ],
      "metadata": {
        "id": "WAtzJc8PLkZd",
        "colab": {
          "base_uri": "https://localhost:8080/"
        },
        "outputId": "7b72de7c-9daa-447e-e3f5-78bc785889bb"
      },
      "execution_count": null,
      "outputs": [
        {
          "output_type": "stream",
          "name": "stdout",
          "text": [
            "     sepal length (cm)  sepal width (cm)  petal length (cm)  petal width (cm)  \\\n",
            "0                  5.1               3.5                1.4               0.2   \n",
            "5                  5.4               3.9                1.7               0.4   \n",
            "10                 5.4               3.7                1.5               0.2   \n",
            "14                 5.8               4.0                1.2               0.2   \n",
            "15                 5.7               4.4                1.5               0.4   \n",
            "..                 ...               ...                ...               ...   \n",
            "145                6.7               3.0                5.2               2.3   \n",
            "146                6.3               2.5                5.0               1.9   \n",
            "147                6.5               3.0                5.2               2.0   \n",
            "148                6.2               3.4                5.4               2.3   \n",
            "149                5.9               3.0                5.1               1.8   \n",
            "\n",
            "       species  \n",
            "0       setosa  \n",
            "5       setosa  \n",
            "10      setosa  \n",
            "14      setosa  \n",
            "15      setosa  \n",
            "..         ...  \n",
            "145  virginica  \n",
            "146  virginica  \n",
            "147  virginica  \n",
            "148  virginica  \n",
            "149  virginica  \n",
            "\n",
            "[118 rows x 5 columns]\n"
          ]
        }
      ]
    },
    {
      "cell_type": "markdown",
      "source": [
        "Task 3.2.4\n",
        "\n",
        "Calculate summary statistics (mean, min, max, etc) for numerical columns in the DataFrame\n",
        "using .describe()."
      ],
      "metadata": {
        "id": "nN-HFV6_Lkm2"
      }
    },
    {
      "cell_type": "code",
      "source": [
        "import pandas as pd\n",
        "\n",
        "# Load the CSV file into a DataFrame\n",
        "loaded_df = pd.read_csv('iris_dataset.csv')\n",
        "\n",
        "# Calculate summary statistics for numerical columns using .describe()\n",
        "summary_stats = loaded_df.describe()\n",
        "\n",
        "# Display the summary statistics\n",
        "print(summary_stats)\n"
      ],
      "metadata": {
        "id": "FF1qlpFALk_0",
        "colab": {
          "base_uri": "https://localhost:8080/"
        },
        "outputId": "77f0e15c-198d-45f8-ab19-2a20a13318ea"
      },
      "execution_count": null,
      "outputs": [
        {
          "output_type": "stream",
          "name": "stdout",
          "text": [
            "       sepal length (cm)  sepal width (cm)  petal length (cm)  \\\n",
            "count         150.000000        150.000000         150.000000   \n",
            "mean            5.843333          3.057333           3.758000   \n",
            "std             0.828066          0.435866           1.765298   \n",
            "min             4.300000          2.000000           1.000000   \n",
            "25%             5.100000          2.800000           1.600000   \n",
            "50%             5.800000          3.000000           4.350000   \n",
            "75%             6.400000          3.300000           5.100000   \n",
            "max             7.900000          4.400000           6.900000   \n",
            "\n",
            "       petal width (cm)  \n",
            "count        150.000000  \n",
            "mean           1.199333  \n",
            "std            0.762238  \n",
            "min            0.100000  \n",
            "25%            0.300000  \n",
            "50%            1.300000  \n",
            "75%            1.800000  \n",
            "max            2.500000  \n"
          ]
        }
      ]
    },
    {
      "cell_type": "markdown",
      "source": [
        "Task 3.2.5\n",
        "\n",
        "Group the DataFrame by one or more columns and calculate aggregates like count, mean,\n",
        "etc per group."
      ],
      "metadata": {
        "id": "DXuMAwH5n1VM"
      }
    },
    {
      "cell_type": "code",
      "source": [
        "import pandas as pd\n",
        "\n",
        "# Load the CSV file into a DataFrame\n",
        "loaded_df = pd.read_csv('iris_dataset.csv')\n",
        "\n",
        "# Group the DataFrame by the 'species' column and calculate aggregates\n",
        "grouped_data = loaded_df.groupby('species').agg({\n",
        "    'sepal length (cm)': ['count', 'mean', 'std'],\n",
        "    'sepal width (cm)': ['mean', 'std'],\n",
        "    'petal length (cm)': ['mean', 'std'],\n",
        "    'petal width (cm)': ['mean', 'std']\n",
        "})\n",
        "\n",
        "# Rename the columns for clarity\n",
        "grouped_data.columns = ['count', 'mean_sepal_length', 'std_sepal_length', 'mean_sepal_width', 'std_sepal_width',\n",
        "                        'mean_petal_length', 'std_petal_length', 'mean_petal_width', 'std_petal_width']\n",
        "\n",
        "# Display the grouped data\n",
        "print(grouped_data)\n"
      ],
      "metadata": {
        "colab": {
          "base_uri": "https://localhost:8080/"
        },
        "id": "PAxgP-dln1mN",
        "outputId": "2e2e5675-011c-4c0b-eb8f-9c67639e2135"
      },
      "execution_count": null,
      "outputs": [
        {
          "output_type": "stream",
          "name": "stdout",
          "text": [
            "            count  mean_sepal_length  std_sepal_length  mean_sepal_width  \\\n",
            "species                                                                    \n",
            "setosa         50              5.006          0.352490             3.428   \n",
            "versicolor     50              5.936          0.516171             2.770   \n",
            "virginica      50              6.588          0.635880             2.974   \n",
            "\n",
            "            std_sepal_width  mean_petal_length  std_petal_length  \\\n",
            "species                                                            \n",
            "setosa             0.379064              1.462          0.173664   \n",
            "versicolor         0.313798              4.260          0.469911   \n",
            "virginica          0.322497              5.552          0.551895   \n",
            "\n",
            "            mean_petal_width  std_petal_width  \n",
            "species                                        \n",
            "setosa                 0.246         0.105386  \n",
            "versicolor             1.326         0.197753  \n",
            "virginica              2.026         0.274650  \n"
          ]
        }
      ]
    },
    {
      "cell_type": "markdown",
      "source": [
        "Task 3.2.6\n",
        "\n",
        "Sort the DataFrame values by a specific column in ascending or descending order."
      ],
      "metadata": {
        "id": "3C1qM8szn2MV"
      }
    },
    {
      "cell_type": "code",
      "source": [
        "import pandas as pd\n",
        "\n",
        "# Load the CSV file into a DataFrame\n",
        "loaded_df = pd.read_csv('iris_dataset.csv')\n",
        "\n",
        "# Sort the DataFrame by the 'sepal length (cm)' column in ascending order\n",
        "sorted_df = loaded_df.sort_values(by='sepal length (cm)', ascending=True)\n",
        "\n",
        "# Display the sorted DataFrame\n",
        "print(sorted_df)\n"
      ],
      "metadata": {
        "colab": {
          "base_uri": "https://localhost:8080/"
        },
        "id": "tBTiAOXln2hz",
        "outputId": "272a27c1-3583-4767-931f-9a060595141c"
      },
      "execution_count": null,
      "outputs": [
        {
          "output_type": "stream",
          "name": "stdout",
          "text": [
            "     sepal length (cm)  sepal width (cm)  petal length (cm)  petal width (cm)  \\\n",
            "13                 4.3               3.0                1.1               0.1   \n",
            "42                 4.4               3.2                1.3               0.2   \n",
            "38                 4.4               3.0                1.3               0.2   \n",
            "8                  4.4               2.9                1.4               0.2   \n",
            "41                 4.5               2.3                1.3               0.3   \n",
            "..                 ...               ...                ...               ...   \n",
            "122                7.7               2.8                6.7               2.0   \n",
            "118                7.7               2.6                6.9               2.3   \n",
            "117                7.7               3.8                6.7               2.2   \n",
            "135                7.7               3.0                6.1               2.3   \n",
            "131                7.9               3.8                6.4               2.0   \n",
            "\n",
            "       species  \n",
            "13      setosa  \n",
            "42      setosa  \n",
            "38      setosa  \n",
            "8       setosa  \n",
            "41      setosa  \n",
            "..         ...  \n",
            "122  virginica  \n",
            "118  virginica  \n",
            "117  virginica  \n",
            "135  virginica  \n",
            "131  virginica  \n",
            "\n",
            "[150 rows x 5 columns]\n"
          ]
        }
      ]
    },
    {
      "cell_type": "code",
      "source": [
        "# Sort the DataFrame by the 'sepal length (cm)' column in descending order\n",
        "sorted_df_descending = loaded_df.sort_values(by='sepal length (cm)', ascending=False)\n",
        "\n",
        "# Display the sorted DataFrame in descending order\n",
        "print(sorted_df_descending)\n"
      ],
      "metadata": {
        "colab": {
          "base_uri": "https://localhost:8080/"
        },
        "id": "Ajg0-tfdqQEM",
        "outputId": "25cd2e09-8782-4d0f-e63f-98a7d677f1c9"
      },
      "execution_count": null,
      "outputs": [
        {
          "output_type": "stream",
          "name": "stdout",
          "text": [
            "     sepal length (cm)  sepal width (cm)  petal length (cm)  petal width (cm)  \\\n",
            "131                7.9               3.8                6.4               2.0   \n",
            "135                7.7               3.0                6.1               2.3   \n",
            "122                7.7               2.8                6.7               2.0   \n",
            "117                7.7               3.8                6.7               2.2   \n",
            "118                7.7               2.6                6.9               2.3   \n",
            "..                 ...               ...                ...               ...   \n",
            "41                 4.5               2.3                1.3               0.3   \n",
            "42                 4.4               3.2                1.3               0.2   \n",
            "38                 4.4               3.0                1.3               0.2   \n",
            "8                  4.4               2.9                1.4               0.2   \n",
            "13                 4.3               3.0                1.1               0.1   \n",
            "\n",
            "       species  \n",
            "131  virginica  \n",
            "135  virginica  \n",
            "122  virginica  \n",
            "117  virginica  \n",
            "118  virginica  \n",
            "..         ...  \n",
            "41      setosa  \n",
            "42      setosa  \n",
            "38      setosa  \n",
            "8       setosa  \n",
            "13      setosa  \n",
            "\n",
            "[150 rows x 5 columns]\n"
          ]
        }
      ]
    },
    {
      "cell_type": "markdown",
      "source": [
        "Task 3.2.7\n",
        "\n",
        "Handle missing values in a DataFrame by dropping or filling."
      ],
      "metadata": {
        "id": "Pq6ISrtGn21q"
      }
    },
    {
      "cell_type": "code",
      "source": [
        "import pandas as pd\n",
        "\n",
        "# Load the CSV file into a DataFrame\n",
        "loaded_df = pd.read_csv('iris_dataset.csv')\n",
        "\n",
        "# Drop rows with any missing values\n",
        "cleaned_df = loaded_df.dropna()\n",
        "\n",
        "# Display the cleaned DataFrame\n",
        "print(cleaned_df)\n"
      ],
      "metadata": {
        "colab": {
          "base_uri": "https://localhost:8080/"
        },
        "id": "d6cGiyo2n3Pq",
        "outputId": "26f58a9f-c497-4d73-d8b0-1ea32307c358"
      },
      "execution_count": null,
      "outputs": [
        {
          "output_type": "stream",
          "name": "stdout",
          "text": [
            "     sepal length (cm)  sepal width (cm)  petal length (cm)  petal width (cm)  \\\n",
            "0                  5.1               3.5                1.4               0.2   \n",
            "1                  4.9               3.0                1.4               0.2   \n",
            "2                  4.7               3.2                1.3               0.2   \n",
            "3                  4.6               3.1                1.5               0.2   \n",
            "4                  5.0               3.6                1.4               0.2   \n",
            "..                 ...               ...                ...               ...   \n",
            "145                6.7               3.0                5.2               2.3   \n",
            "146                6.3               2.5                5.0               1.9   \n",
            "147                6.5               3.0                5.2               2.0   \n",
            "148                6.2               3.4                5.4               2.3   \n",
            "149                5.9               3.0                5.1               1.8   \n",
            "\n",
            "       species  \n",
            "0       setosa  \n",
            "1       setosa  \n",
            "2       setosa  \n",
            "3       setosa  \n",
            "4       setosa  \n",
            "..         ...  \n",
            "145  virginica  \n",
            "146  virginica  \n",
            "147  virginica  \n",
            "148  virginica  \n",
            "149  virginica  \n",
            "\n",
            "[150 rows x 5 columns]\n"
          ]
        }
      ]
    },
    {
      "cell_type": "code",
      "source": [
        "import pandas as pd\n",
        "\n",
        "# Load the CSV file into a DataFrame\n",
        "loaded_df = pd.read_csv('iris_dataset.csv')\n",
        "\n",
        "# Fill missing values with a specific value, for example, mean of the column\n",
        "filled_df = loaded_df.fillna(loaded_df.mean())\n",
        "\n",
        "# Display the DataFrame with missing values filled\n",
        "print(filled_df)\n"
      ],
      "metadata": {
        "colab": {
          "base_uri": "https://localhost:8080/"
        },
        "id": "bQHXE-V-n34_",
        "outputId": "b7832fa0-3c85-42a4-e874-f37f2ca33153"
      },
      "execution_count": null,
      "outputs": [
        {
          "output_type": "stream",
          "name": "stdout",
          "text": [
            "     sepal length (cm)  sepal width (cm)  petal length (cm)  petal width (cm)  \\\n",
            "0                  5.1               3.5                1.4               0.2   \n",
            "1                  4.9               3.0                1.4               0.2   \n",
            "2                  4.7               3.2                1.3               0.2   \n",
            "3                  4.6               3.1                1.5               0.2   \n",
            "4                  5.0               3.6                1.4               0.2   \n",
            "..                 ...               ...                ...               ...   \n",
            "145                6.7               3.0                5.2               2.3   \n",
            "146                6.3               2.5                5.0               1.9   \n",
            "147                6.5               3.0                5.2               2.0   \n",
            "148                6.2               3.4                5.4               2.3   \n",
            "149                5.9               3.0                5.1               1.8   \n",
            "\n",
            "       species  \n",
            "0       setosa  \n",
            "1       setosa  \n",
            "2       setosa  \n",
            "3       setosa  \n",
            "4       setosa  \n",
            "..         ...  \n",
            "145  virginica  \n",
            "146  virginica  \n",
            "147  virginica  \n",
            "148  virginica  \n",
            "149  virginica  \n",
            "\n",
            "[150 rows x 5 columns]\n"
          ]
        },
        {
          "output_type": "stream",
          "name": "stderr",
          "text": [
            "<ipython-input-15-cf51c41b8a40>:7: FutureWarning: The default value of numeric_only in DataFrame.mean is deprecated. In a future version, it will default to False. In addition, specifying 'numeric_only=None' is deprecated. Select only valid columns or specify the value of numeric_only to silence this warning.\n",
            "  filled_df = loaded_df.fillna(loaded_df.mean())\n"
          ]
        }
      ]
    }
  ]
}